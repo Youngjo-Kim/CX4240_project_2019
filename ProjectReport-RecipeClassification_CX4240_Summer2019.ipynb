{
 "cells": [
  {
   "cell_type": "markdown",
   "metadata": {},
   "source": [
    "# Project Title: Geographic Classification of Cuisine Recipes\n",
    "### Jinhyeun Kim, Youngjo Kim, Jianyuan Zhai\n",
    "<br>\n",
    "<br>"
   ]
  },
  {
   "cell_type": "markdown",
   "metadata": {},
   "source": [
    "# 1. Introduction\n",
    "## 1-1. The goal of the project\n",
    "\n",
    "<font size=\"4.5\"> <b>Classify</b> the geographic origins of recipes based on the ingredients used</font>\n",
    "<br>\n",
    "<br>"
   ]
  },
  {
   "cell_type": "markdown",
   "metadata": {},
   "source": [
    "## 1-2. Why is it important?"
   ]
  },
  {
   "cell_type": "markdown",
   "metadata": {},
   "source": [
    "<font size=\"4.5\">Cuisines are different across different countries and are primarily affected by geographic conditions, such as local climate, religion, and trade. <b><i>Therefore, classifying the cuisines can be used to improve our understanding of each culture and lifestyle</i></b></font>"
   ]
  },
  {
   "cell_type": "code",
   "execution_count": 1,
   "metadata": {},
   "outputs": [
    {
     "data": {
      "text/html": [
       "<img src=\"https://github.com/Youngjo-Kim/Geographic-Classification-of-Cuisine-Recipes/blob/master/figures/Foodworld.png?raw=true\"/>"
      ],
      "text/plain": [
       "<IPython.core.display.Image object>"
      ]
     },
     "execution_count": 1,
     "metadata": {},
     "output_type": "execute_result"
    }
   ],
   "source": [
    "from IPython.display import Image, HTML, IFrame\n",
    "Image(url='https://github.com/Youngjo-Kim/Geographic-Classification-of-Cuisine-Recipes/blob/master/figures/Foodworld.png?raw=true')"
   ]
  },
  {
   "cell_type": "markdown",
   "metadata": {},
   "source": [
    "# 2. Method"
   ]
  },
  {
   "cell_type": "markdown",
   "metadata": {},
   "source": [
    "## 2-1. How did we approach the problem?"
   ]
  },
  {
   "cell_type": "markdown",
   "metadata": {},
   "source": [
    "<font size=\"4.5\">1. <b>*Get the data from Kaggle*</b> (Use 'pandas' to read json file into pandas dataframe)<br><br> 2. Data Preprocessing: <b><i>Construct a binary matrix X (39774 x 6714)</i></b> <br><br>$\\;\\;\\;\\;\\;\\;$2-1) 39774 recipes from 20 countries and the total 6714 ingredients for the recipes <br>$\\;\\;\\;\\;\\;\\;$2-2) For recipe $i$, if ingredient $j$ is used, $X_{i,j}$ equals to 1, and if ingredient $j$ is not used, $X_{i,j}$ equals to 0 </font>"
   ]
  },
  {
   "cell_type": "markdown",
   "metadata": {},
   "source": [
    "<font size=\"4.5\">3. <b><i>Train/Test Split(0.8, 0.2) of binary matrix X and the label y</i></b><br><br> 4. <b><i>Model Training and Selection</i></b>: Use 'Scikit learn' to help train the classfiers<br><br>$\\;\\;\\;\\;\\;\\;$ 1. Perceptron<br>$\\;\\;\\;\\;\\;\\;$ 2. Logistic Regression <br>$\\;\\;\\;\\;\\;\\;$ 3. Linear SVM <br>$\\;\\;\\;\\;\\;\\;$ 4. ANN<br><br> 5. <b><i>Evaluate the model based on ROC Curves</i></b>"
   ]
  },
  {
   "cell_type": "code",
   "execution_count": 2,
   "metadata": {},
   "outputs": [
    {
     "data": {
      "text/html": [
       "\n",
       "        <iframe\n",
       "            width=\"1000\"\n",
       "            height=\"650\"\n",
       "            src=\"https://nbviewer.jupyter.org/github/Youngjo-Kim/Geographic-Classification-of-Cuisine-Recipes/blob/master/GeoChart(Country).html\"\n",
       "            frameborder=\"0\"\n",
       "            allowfullscreen\n",
       "        ></iframe>\n",
       "        "
      ],
      "text/plain": [
       "<IPython.lib.display.IFrame at 0x1f43df45240>"
      ]
     },
     "execution_count": 2,
     "metadata": {},
     "output_type": "execute_result"
    }
   ],
   "source": [
    "IFrame('https://nbviewer.jupyter.org/github/Youngjo-Kim/Geographic-Classification-of-Cuisine-Recipes/blob/master/GeoChart(Country).html', width=1000, height=650)"
   ]
  },
  {
   "cell_type": "code",
   "execution_count": 3,
   "metadata": {
    "scrolled": false
   },
   "outputs": [
    {
     "data": {
      "text/html": [
       "<img src=\"https://github.com/Youngjo-Kim/Geographic-Classification-of-Cuisine-Recipes/blob/master/figures/MainWorkflow.png?raw=true\"/>"
      ],
      "text/plain": [
       "<IPython.core.display.Image object>"
      ]
     },
     "execution_count": 3,
     "metadata": {},
     "output_type": "execute_result"
    }
   ],
   "source": [
    "img = 'https://github.com/Youngjo-Kim/Geographic-Classification-of-Cuisine-Recipes/blob/master/figures/MainWorkflow.png?raw=true'\n",
    "Image(url=img)"
   ]
  },
  {
   "cell_type": "markdown",
   "metadata": {},
   "source": [
    "## 2-2. Challenges approached"
   ]
  },
  {
   "cell_type": "markdown",
   "metadata": {},
   "source": [
    "<font size=\"4.5\">1. The imbalance of the sample matters in statistical estimation technique and can lead to classifier bias<br>2. The matrix is too large and takes a lot of time for running (for ANN, it took over 2 hours for the entire dataset)<br><br>\n",
    "<b><i>How can we reduce the sample imbalance problem?</i></b></font>"
   ]
  },
  {
   "cell_type": "markdown",
   "metadata": {},
   "source": [
    "## 2-3. New in our approach"
   ]
  },
  {
   "cell_type": "markdown",
   "metadata": {},
   "source": [
    "<font size=\"4.5\">Take a Two-step Approach:<br><br><b>What if we classify first by the continents and then classify the country?</b><br>We assume that our two-step approach would not lead to the classification bias since we know that the food varies according to the region (Food and the region is highly correlated)</font>"
   ]
  },
  {
   "cell_type": "code",
   "execution_count": 4,
   "metadata": {},
   "outputs": [
    {
     "data": {
      "text/html": [
       "<img src=\"https://github.com/Youngjo-Kim/Geographic-Classification-of-Cuisine-Recipes/blob/master/Dendogram(country).PNG?raw=true\"/>"
      ],
      "text/plain": [
       "<IPython.core.display.Image object>"
      ]
     },
     "execution_count": 4,
     "metadata": {},
     "output_type": "execute_result"
    }
   ],
   "source": [
    "Image(url='https://github.com/Youngjo-Kim/Geographic-Classification-of-Cuisine-Recipes/blob/master/Dendogram(country).PNG?raw=true')"
   ]
  },
  {
   "cell_type": "code",
   "execution_count": 5,
   "metadata": {},
   "outputs": [
    {
     "data": {
      "text/html": [
       "<img src=\"https://github.com/Youngjo-Kim/Geographic-Classification-of-Cuisine-Recipes/blob/master/Dendogram(continent).PNG?raw=true\"/>"
      ],
      "text/plain": [
       "<IPython.core.display.Image object>"
      ]
     },
     "execution_count": 5,
     "metadata": {},
     "output_type": "execute_result"
    }
   ],
   "source": [
    "Image(url='https://github.com/Youngjo-Kim/Geographic-Classification-of-Cuisine-Recipes/blob/master/Dendogram(continent).PNG?raw=true')"
   ]
  },
  {
   "cell_type": "code",
   "execution_count": 6,
   "metadata": {},
   "outputs": [
    {
     "data": {
      "text/html": [
       "\n",
       "        <iframe\n",
       "            width=\"1000\"\n",
       "            height=\"700\"\n",
       "            src=\"https://nbviewer.jupyter.org/github/Youngjo-Kim/Geographic-Classification-of-Cuisine-Recipes/blob/master/GeoChart(Continent).html\"\n",
       "            frameborder=\"0\"\n",
       "            allowfullscreen\n",
       "        ></iframe>\n",
       "        "
      ],
      "text/plain": [
       "<IPython.lib.display.IFrame at 0x1f43df45e10>"
      ]
     },
     "execution_count": 6,
     "metadata": {},
     "output_type": "execute_result"
    }
   ],
   "source": [
    "IFrame('https://nbviewer.jupyter.org/github/Youngjo-Kim/Geographic-Classification-of-Cuisine-Recipes/blob/master/GeoChart(Continent).html', width=1000, height=700)"
   ]
  },
  {
   "cell_type": "markdown",
   "metadata": {},
   "source": [
    "### Through the two-step approach, we can reduce the imbalance of the sample problem"
   ]
  },
  {
   "cell_type": "code",
   "execution_count": 7,
   "metadata": {},
   "outputs": [
    {
     "data": {
      "text/html": [
       "\n",
       "        <iframe\n",
       "            width=\"800\"\n",
       "            height=\"400\"\n",
       "            src=\"https://nbviewer.jupyter.org/github/Youngjo-Kim/Geographic-Classification-of-Cuisine-Recipes/blob/master/PieChart(Country).html\"\n",
       "            frameborder=\"0\"\n",
       "            allowfullscreen\n",
       "        ></iframe>\n",
       "        "
      ],
      "text/plain": [
       "<IPython.lib.display.IFrame at 0x1f43df5e0b8>"
      ]
     },
     "execution_count": 7,
     "metadata": {},
     "output_type": "execute_result"
    }
   ],
   "source": [
    "IFrame('https://nbviewer.jupyter.org/github/Youngjo-Kim/Geographic-Classification-of-Cuisine-Recipes/blob/master/PieChart(Country).html', width=800, height=400)"
   ]
  },
  {
   "cell_type": "code",
   "execution_count": 8,
   "metadata": {},
   "outputs": [
    {
     "data": {
      "text/html": [
       "\n",
       "        <iframe\n",
       "            width=\"800\"\n",
       "            height=\"400\"\n",
       "            src=\"https://nbviewer.jupyter.org/github/Youngjo-Kim/Geographic-Classification-of-Cuisine-Recipes/blob/master/PieChart(Continent).html\"\n",
       "            frameborder=\"0\"\n",
       "            allowfullscreen\n",
       "        ></iframe>\n",
       "        "
      ],
      "text/plain": [
       "<IPython.lib.display.IFrame at 0x1f43df5e358>"
      ]
     },
     "execution_count": 8,
     "metadata": {},
     "output_type": "execute_result"
    }
   ],
   "source": [
    "IFrame('https://nbviewer.jupyter.org/github/Youngjo-Kim/Geographic-Classification-of-Cuisine-Recipes/blob/master/PieChart(Continent).html', width=800, height=400)"
   ]
  },
  {
   "cell_type": "markdown",
   "metadata": {},
   "source": [
    "### There is a high imbalance for Africa since the dataset for Africa only contains 821 data (which is from Morocco)\n",
    "<font size=\"4.5\">We tried to 'Balance' class_weight (putting less weights on the majority class instances)<br> $\\;\\;$→ Results in slightly (~0.1%) higher training accuracy but lower testing accuracy than the normal logistic regression</font>"
   ]
  },
  {
   "cell_type": "code",
   "execution_count": 9,
   "metadata": {
    "scrolled": false
   },
   "outputs": [
    {
     "data": {
      "text/html": [
       "<img src=\"https://github.com/Youngjo-Kim/Geographic-Classification-of-Cuisine-Recipes/blob/master/Logistic(Weight_balanced_compare).png?raw=true\"/>"
      ],
      "text/plain": [
       "<IPython.core.display.Image object>"
      ]
     },
     "execution_count": 9,
     "metadata": {},
     "output_type": "execute_result"
    }
   ],
   "source": [
    "Image(url='https://github.com/Youngjo-Kim/Geographic-Classification-of-Cuisine-Recipes/blob/master/Logistic(Weight_balanced_compare).png?raw=true')"
   ]
  },
  {
   "cell_type": "markdown",
   "metadata": {},
   "source": [
    "## Two-Step Approach Workflow"
   ]
  },
  {
   "cell_type": "code",
   "execution_count": 10,
   "metadata": {
    "scrolled": false
   },
   "outputs": [
    {
     "data": {
      "text/html": [
       "<img src=\"https://github.com/Youngjo-Kim/Geographic-Classification-of-Cuisine-Recipes/blob/master/figures/Workflow3.png?raw=true\"/>"
      ],
      "text/plain": [
       "<IPython.core.display.Image object>"
      ]
     },
     "execution_count": 10,
     "metadata": {},
     "output_type": "execute_result"
    }
   ],
   "source": [
    "Image(url='https://github.com/Youngjo-Kim/Geographic-Classification-of-Cuisine-Recipes/blob/master/figures/Workflow3.png?raw=true')"
   ]
  },
  {
   "cell_type": "markdown",
   "metadata": {},
   "source": [
    "## The goal is to correctly classify the recipe to the geographic origins\n",
    "<font size=\"4.5\">For example in our model, our model should be able to classify the spaghetti to the Italian</font>"
   ]
  },
  {
   "cell_type": "code",
   "execution_count": 11,
   "metadata": {
    "scrolled": false
   },
   "outputs": [
    {
     "data": {
      "text/html": [
       "<img src=\"https://github.com/Youngjo-Kim/Geographic-Classification-of-Cuisine-Recipes/blob/master/figures/Workflow4.png?raw=true\"/>"
      ],
      "text/plain": [
       "<IPython.core.display.Image object>"
      ]
     },
     "execution_count": 11,
     "metadata": {},
     "output_type": "execute_result"
    }
   ],
   "source": [
    "Image(url='https://github.com/Youngjo-Kim/Geographic-Classification-of-Cuisine-Recipes/blob/master/figures/Workflow4.png?raw=true')"
   ]
  },
  {
   "cell_type": "markdown",
   "metadata": {},
   "source": [
    "### We can determine one best classifier in the continent level and three best classifiers in the country level for each continent (America, Asia, and Europe)\n",
    "$\\;\\;\\;\\;\\;\\;$<font size=\"4.5\">1. Use the ROC curves to determine the best model in each level<br>\n",
    "$\\;\\;\\;\\;\\;$2. Combine the best model on the continent level and the country level </font>"
   ]
  },
  {
   "cell_type": "markdown",
   "metadata": {},
   "source": [
    "## 2-4. Evaluation of the Model"
   ]
  },
  {
   "cell_type": "markdown",
   "metadata": {},
   "source": [
    "## ROC Curves"
   ]
  },
  {
   "cell_type": "code",
   "execution_count": 12,
   "metadata": {},
   "outputs": [
    {
     "data": {
      "text/html": [
       "<img src=\"https://github.com/Youngjo-Kim/Geographic-Classification-of-Cuisine-Recipes/blob/master/figures/ROCCurvesContinent.png?raw=true\"/>"
      ],
      "text/plain": [
       "<IPython.core.display.Image object>"
      ]
     },
     "execution_count": 12,
     "metadata": {},
     "output_type": "execute_result"
    }
   ],
   "source": [
    "Image(url='https://github.com/Youngjo-Kim/Geographic-Classification-of-Cuisine-Recipes/blob/master/figures/ROCCurvesContinent.png?raw=true')"
   ]
  },
  {
   "cell_type": "code",
   "execution_count": 13,
   "metadata": {},
   "outputs": [
    {
     "data": {
      "text/html": [
       "<img src=\"https://github.com/Youngjo-Kim/Geographic-Classification-of-Cuisine-Recipes/blob/master/figures/ROCCurvesCountries.png?raw=true\"/>"
      ],
      "text/plain": [
       "<IPython.core.display.Image object>"
      ]
     },
     "execution_count": 13,
     "metadata": {},
     "output_type": "execute_result"
    }
   ],
   "source": [
    "Image(url='https://github.com/Youngjo-Kim/Geographic-Classification-of-Cuisine-Recipes/blob/master/figures/ROCCurvesCountries.png?raw=true')"
   ]
  },
  {
   "cell_type": "markdown",
   "metadata": {},
   "source": [
    "### We picked the four best models,\n",
    "$\\;\\;\\;\\;\\;\\;$<font size=\"4.5\">For Continent level, we picked <b>logistic regression</b>\n",
    "<br>$\\;\\;\\;\\;\\;$<font size=\"4.5\">For Country level (America), <b>logistic regression</b>\n",
    "    <br>$\\;\\;\\;\\;\\;$<font size=\"4.5\">For Country level (Asia), <b>logistic regression</b>\n",
    "    <br>$\\;\\;\\;\\;\\;$<font size=\"4.5\">For Country level (EU), <b>SVM</b>\n",
    "    \n",
    "### and connect the best models in sequence"
   ]
  },
  {
   "cell_type": "code",
   "execution_count": 14,
   "metadata": {},
   "outputs": [
    {
     "data": {
      "text/html": [
       "<img src=\"https://github.com/Youngjo-Kim/Geographic-Classification-of-Cuisine-Recipes/blob/master/Accuracycompare1.png?raw=true\"/>"
      ],
      "text/plain": [
       "<IPython.core.display.Image object>"
      ]
     },
     "execution_count": 14,
     "metadata": {},
     "output_type": "execute_result"
    }
   ],
   "source": [
    "Image(url='https://github.com/Youngjo-Kim/Geographic-Classification-of-Cuisine-Recipes/blob/master/Accuracycompare1.png?raw=true')"
   ]
  },
  {
   "cell_type": "code",
   "execution_count": 15,
   "metadata": {},
   "outputs": [
    {
     "data": {
      "text/html": [
       "<img src=\"https://github.com/Youngjo-Kim/Geographic-Classification-of-Cuisine-Recipes/blob/master/Accuracycompare2.png?raw=true\"/>"
      ],
      "text/plain": [
       "<IPython.core.display.Image object>"
      ]
     },
     "execution_count": 15,
     "metadata": {},
     "output_type": "execute_result"
    }
   ],
   "source": [
    "Image(url='https://github.com/Youngjo-Kim/Geographic-Classification-of-Cuisine-Recipes/blob/master/Accuracycompare2.png?raw=true')"
   ]
  },
  {
   "cell_type": "markdown",
   "metadata": {},
   "source": [
    "## Overall Classifier (Best Classifier 1 + Best Classifier 2)"
   ]
  },
  {
   "cell_type": "code",
   "execution_count": 16,
   "metadata": {},
   "outputs": [
    {
     "data": {
      "text/html": [
       "<img src=\"https://github.com/Youngjo-Kim/Geographic-Classification-of-Cuisine-Recipes/blob/master/figures/ComparisonBetweenSVMand2Step_resize.png?raw=true\"/>"
      ],
      "text/plain": [
       "<IPython.core.display.Image object>"
      ]
     },
     "execution_count": 16,
     "metadata": {},
     "output_type": "execute_result"
    }
   ],
   "source": [
    "Image(url='https://github.com/Youngjo-Kim/Geographic-Classification-of-Cuisine-Recipes/blob/master/figures/ComparisonBetweenSVMand2Step_resize.png?raw=true')"
   ]
  },
  {
   "cell_type": "markdown",
   "metadata": {},
   "source": [
    "## Performance of the two-step approach versus the normal approach"
   ]
  },
  {
   "cell_type": "markdown",
   "metadata": {},
   "source": [
    "### Overall accuracy for the testing set\n",
    "<font size=\"4.5\"> Testing Accuracy with SVM            : 0.791\n",
    "<br>Testing Accuracy with 2-step appraoch: 0.847"
   ]
  },
  {
   "cell_type": "markdown",
   "metadata": {},
   "source": [
    "<font size=\"4.5\">  (1) 2 step approach is better in test accuracy <b>overall</b>\n",
    "<br>(2) Based on the confusion matrix plot, however, we <b>cannot conclude</b> that the two-step approach is better in predicting every cuisine"
   ]
  },
  {
   "cell_type": "markdown",
   "metadata": {},
   "source": [
    "## Interpretation of the Confusion Matrix\n",
    "<font size=\"4.5\"> Discovering the relationship between the cuisines according to different region and culture </font>\n"
   ]
  },
  {
   "cell_type": "code",
   "execution_count": 18,
   "metadata": {},
   "outputs": [
    {
     "data": {
      "text/html": [
       "\n",
       "        <iframe\n",
       "            width=\"900\"\n",
       "            height=\"900\"\n",
       "            src=\"https://nbviewer.jupyter.org/github/Youngjo-Kim/Geographic-Classification-of-Cuisine-Recipes/blob/master/ConfusionMatrix.html\"\n",
       "            frameborder=\"0\"\n",
       "            allowfullscreen\n",
       "        ></iframe>\n",
       "        "
      ],
      "text/plain": [
       "<IPython.lib.display.IFrame at 0x1f43df69e10>"
      ]
     },
     "execution_count": 18,
     "metadata": {},
     "output_type": "execute_result"
    }
   ],
   "source": [
    "IFrame('https://nbviewer.jupyter.org/github/Youngjo-Kim/Geographic-Classification-of-Cuisine-Recipes/blob/master/ConfusionMatrix.html', width=900, height=900)"
   ]
  },
  {
   "cell_type": "markdown",
   "metadata": {},
   "source": [
    "<font size=\"3.5\"><b>1. America section</b>\n",
    "- 9.3% of Cajun & Creole foods are predicted as Southern US foods \n",
    "- More than 8% of each Cajun Creole foods and Southern US foods are predicted as French or Italian foods since many people have come from Europe to America for a long time\n",
    "- the region of Cajun & Creole foods is Louisiana where was a colony of France, so that the 4.44% of Cajun & Creole foods are predicted as French foods"
   ]
  },
  {
   "cell_type": "markdown",
   "metadata": {},
   "source": [
    "<font size=\"3.5\"><b>2. Asia section</b>\n",
    "- Many countries' foods are related to Chinese foods. It is very possible because China has been influential to most countries for several thousand years\n",
    "- Vietnamese foods and Thai foods may be influential each because they are very close in geographically\n",
    "- Wrong predicted Filipino foods have a larger ratio of western foods because the Philippines was colonized by Spain and America(??)\n",
    "- One thing which does not follow our assumption is that we cannot find any relationships between Vietnamese and French foods even though Vietnam was colonized by France for several decades."
   ]
  },
  {
   "cell_type": "markdown",
   "metadata": {},
   "source": [
    "<font size=\"3.5\"><b>3. Europe section</b>\n",
    "- Many foods from European countries are predicted as Italian and French foods because European countries have influenced each other for thousands of years\n",
    "- Many wrongly predicted results as Italian or French foods may be caused by the number of samples (Italian has the most number of samples and the French category has the second largest number of samples)\n",
    "- 3.6% of British foods were predicted as Indian foods. Because many Indian people have been moved to England, so this prediction can be explained"
   ]
  },
  {
   "cell_type": "markdown",
   "metadata": {},
   "source": [
    "<font size=\"3.5\"><b>4. Africa section</b>\n",
    "- We have only one country, Moroccan, for African data set.\n",
    "- Some Moroccan foods were predicted as European foods because Morocco is very close to Europe.\n"
   ]
  },
  {
   "cell_type": "markdown",
   "metadata": {},
   "source": [
    "# 3. Discussion\n",
    "\n"
   ]
  },
  {
   "cell_type": "markdown",
   "metadata": {},
   "source": [
    "### 1. Does the Best Model in Continent Level + Best Model in Country Level lead to Best Model overall?"
   ]
  },
  {
   "cell_type": "markdown",
   "metadata": {},
   "source": [
    "<font size=\"4.5\"><b>No</b>: Best + Second Best has a slightly higher testing accuracy\n",
    "<br>Possible reason: Log and SVM has a very small difference of the auc values (less than 0.07%) in the ROC plot, and we used the macro-averaging for multi-class classification\n",
    "<br>$\\;\\;\\;\\;\\;\\;$ →Different numbers of binarized samples should be penalized by the weights to correctly account for the imbalance of the sample numbers"
   ]
  },
  {
   "cell_type": "markdown",
   "metadata": {},
   "source": [
    "### 2. How about doing the PCA to the entire large dataset?\n",
    "<font size=\"4.5\"> Did a Multiple Correspondence Analysis (MCA) for an entire dataset\n",
    "1. Half of the principal components are needed to explain 99% variance of the binary data (X)\n",
    "2. Using these reduced features, we did a logistic regression on the entire dataset\n",
    "<br>$\\;\\;\\;\\;\\;\\;$ → The test accuracy was 0.73, which is lower than the two-step approach\n",
    "<br>$\\;\\;\\;\\;\\;\\;$ → For the large binary recipe dataset, Feature Extraction does not play a big role in efficiently reducing the dataspace</font>"
   ]
  },
  {
   "cell_type": "markdown",
   "metadata": {},
   "source": [
    "# 4. Conclusion\n",
    "\n",
    "<font size=\"4.5\"> 1. We achieved high accuracy in classifying the cuisines with the two-step classifiers \n",
    "<br><br>2. We believe this project can benefit people who love food and are willing to learn about the culture behind different recipes \n",
    "<br><br>3. We hope our model can be used in the future as a useful source for the people who are interested in discovering the relationship between the cuisines and the lifestyle of the people according to different region and culture</font>"
   ]
  },
  {
   "cell_type": "markdown",
   "metadata": {},
   "source": [
    "<br><br><br>\n",
    "# Reference"
   ]
  },
  {
   "cell_type": "markdown",
   "metadata": {},
   "source": [
    "__Data Source:__ <br>\n",
    "\n",
    "https://www.kaggle.com/kaggle/recipe-ingredients-dataset#test.json\n",
    "\n",
    "__Publication:__<br>\n",
    "1. Kotsiantis SB. Supervised Machine Learning: A Review of Classification Techniques. Proceedings of the 2007 conference on Emerging Artificial Intelligence Applications in Computer Engineering: Real Word AI Systems with Applications in eHealth, HCI, Information Retrieval and Pervasive Technologies; 2007.\n",
    "2. Vapnik V, Kotz S. Estimation of Dependences Based on Empirical Data. Springer; 2006.\n",
    "3. Vapnik V. The Nature of Statistical Learning Theory. Springer New York; 1999.\n",
    "4. Jonathon Shlens. A Tutorial on Principal Component Analysis. arXiv:1404.1100v1; 2014.\n",
    "5. Herve Abdi & Dominique Valentin. Multiple Correspondence Analysis; 2007.\n",
    "6. Howard Bergman et al. Correspondence analysis is a useful tool to uncover the relationships among categorical variables; 2010.\n",
    "\n",
    "__Others:__\n",
    "<br>https://www.researchgate.net/post/Machine_learning_if_proportion_of_number_of_cases_in_different_class_in_training_set_matters\n",
    "https://www.cs.cmu.edu/afs/cs/project/jair/pub/volume16/chawla02a-html/chawla2002.html\n",
    "<br>http://www.bigendiandata.com/2017-06-27-Mapping_in_Jupyter/\n",
    "<br>https://towardsdatascience.com/a-complete-guide-to-an-interactive-geographical-map-using-python-f4c5197e23e0\n",
    "<br>https://bokeh.pydata.org/en/latest/docs/gallery/unemployment.html\n",
    "<br>www.freeworldmaps.net\n",
    "\n",
    "__Supplement:__\n",
    "<br>https://nbviewer.jupyter.org/github/Youngjo-Kim/Geographic-Classification-of-Cuisine-Recipes/blob/master/MainCode-RecipeClassification_CX4240_Summer2019.ipynb"
   ]
  }
 ],
 "metadata": {
  "kernelspec": {
   "display_name": "Python 3",
   "language": "python",
   "name": "python3"
  },
  "language_info": {
   "codemirror_mode": {
    "name": "ipython",
    "version": 3
   },
   "file_extension": ".py",
   "mimetype": "text/x-python",
   "name": "python",
   "nbconvert_exporter": "python",
   "pygments_lexer": "ipython3",
   "version": "3.7.3"
  }
 },
 "nbformat": 4,
 "nbformat_minor": 2
}
