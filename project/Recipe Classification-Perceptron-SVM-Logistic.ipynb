{
 "cells": [
  {
   "cell_type": "markdown",
   "metadata": {},
   "source": [
    "# Import Packages "
   ]
  },
  {
   "cell_type": "code",
   "execution_count": 1,
   "metadata": {},
   "outputs": [],
   "source": [
    "import pandas as pd\n",
    "import numpy as np\n",
    "from sklearn.model_selection import train_test_split\n",
    "from sklearn.svm import LinearSVC\n",
    "from sklearn.linear_model import LogisticRegressionCV\n",
    "from sklearn.model_selection import GridSearchCV\n",
    "from sklearn.model_selection import ShuffleSplit\n",
    "from sklearn.linear_model import Perceptron\n",
    "from sklearn.metrics import confusion_matrix"
   ]
  },
  {
   "cell_type": "markdown",
   "metadata": {},
   "source": [
    "# Load Data"
   ]
  },
  {
   "cell_type": "code",
   "execution_count": 2,
   "metadata": {},
   "outputs": [],
   "source": [
    "data=pd.read_json('train.json')  ### Load data into a pandas dataframe"
   ]
  },
  {
   "cell_type": "code",
   "execution_count": 3,
   "metadata": {},
   "outputs": [],
   "source": [
    "unique_ingredients=[] ### Initialize the list for all ingredients \n",
    "for i in range(len(data.id)):\n",
    "    for k in data.ingredients[i]:\n",
    "        if k not in unique_ingredients:\n",
    "            unique_ingredients.append(k) ## Append the ingredient if it is not in the unique_ingredients"
   ]
  },
  {
   "cell_type": "code",
   "execution_count": 4,
   "metadata": {},
   "outputs": [],
   "source": [
    "N = len(unique_ingredients)\n",
    "M = len(data.id)\n",
    "binary_assignment=[] ## Initialize the binary_assignment as a list\n",
    "for i in range(M):\n",
    "    assigment=np.zeros(N) ### initialze the ingredients as all 0\n",
    "    for j in data.ingredients[i]:\n",
    "        assigment[unique_ingredients.index(j)]=1 ### Assigne 1 if the ingreident is in the dish\n",
    "    binary_assignment.append(assigment)"
   ]
  },
  {
   "cell_type": "code",
   "execution_count": 5,
   "metadata": {},
   "outputs": [],
   "source": [
    "binary_assignment=np.reshape(binary_assignment,(M,N)) ## Reshape the assignemt into M by N matrix "
   ]
  },
  {
   "cell_type": "code",
   "execution_count": 6,
   "metadata": {},
   "outputs": [],
   "source": [
    "from sklearn import preprocessing\n",
    "unique_labels=np.unique(data.cuisine)\n",
    "le = preprocessing.LabelEncoder()\n",
    "le.fit(data.cuisine)\n",
    "labels=le.transform(data.cuisine)\n",
    "label=np.array(labels)"
   ]
  },
  {
   "cell_type": "code",
   "execution_count": 228,
   "metadata": {
    "scrolled": true
   },
   "outputs": [
    {
     "name": "stdout",
     "output_type": "stream",
     "text": [
      "13297\n",
      "11048\n",
      "14608\n",
      "821\n",
      "['brazilian' 'british' 'cajun_creole' 'chinese' 'filipino' 'french'\n",
      " 'greek' 'indian' 'irish' 'italian' 'jamaican' 'japanese' 'korean'\n",
      " 'mexican' 'moroccan' 'russian' 'southern_us' 'spanish' 'thai'\n",
      " 'vietnamese']\n",
      "39774\n",
      "6714\n"
     ]
    }
   ],
   "source": [
    "print(len(America_ind))\n",
    "print(len(Asia_ind))\n",
    "print(len(EU_ind))\n",
    "print(len(Africa_ind))\n",
    "print(unique_labels)\n",
    "print(len(labels))\n",
    "print(len(unique_ingredients))"
   ]
  },
  {
   "cell_type": "markdown",
   "metadata": {},
   "source": [
    "## Create second label for each continents"
   ]
  },
  {
   "cell_type": "code",
   "execution_count": 7,
   "metadata": {},
   "outputs": [],
   "source": [
    "America=['cajun_creole','southern_us','jamaican','mexican','brazilian']\n",
    "Asia=['chinese','filipino','thai','vietnamese','japanese','korean','indian']\n",
    "EU=['french','greek','italian','russian','spanish','irish','british']\n",
    "Africa=['moroccan']"
   ]
  },
  {
   "cell_type": "code",
   "execution_count": 8,
   "metadata": {},
   "outputs": [],
   "source": [
    "labels2=[]\n",
    "for i in data.cuisine:\n",
    "    if i in America:\n",
    "        labels2.append(0)\n",
    "    elif i in Asia:\n",
    "        labels2.append(1)\n",
    "    elif i in EU:\n",
    "        labels2.append(2)\n",
    "    else:\n",
    "        labels2.append(3)\n"
   ]
  },
  {
   "cell_type": "code",
   "execution_count": 9,
   "metadata": {},
   "outputs": [],
   "source": [
    "label2=np.array(labels2)\n",
    "America_ind=np.where(label2==0)[0]\n",
    "Asia_ind=np.where(label2==1)[0]\n",
    "EU_ind=np.where(label2==2)[0]\n",
    "Africa_ind=np.where(label2==3)[0]"
   ]
  },
  {
   "cell_type": "code",
   "execution_count": 157,
   "metadata": {},
   "outputs": [],
   "source": [
    "America_X=binary_assignment[America_ind,:]\n",
    "America_y=label[America_ind]-min(label[America_ind])\n",
    "Asia_X=binary_assignment[Asia_ind,:]\n",
    "Asia_y=label[Asia_ind]-min(label[Asia_ind])\n",
    "EU_X=binary_assignment[EU_ind,:]\n",
    "EU_y=label[EU_ind]-min(label[EU_ind])\n",
    "Africa_X=binary_assignment[Africa_ind,:]\n",
    "Africa_y=label[Asia_ind]-min(label[Africa_ind])"
   ]
  },
  {
   "cell_type": "code",
   "execution_count": 11,
   "metadata": {},
   "outputs": [],
   "source": [
    "X_train, X_test, y_train, y_test = train_test_split(binary_assignment, labels2, test_size=0.2, random_state=0)"
   ]
  },
  {
   "cell_type": "code",
   "execution_count": 132,
   "metadata": {},
   "outputs": [],
   "source": [
    "Ac_am_train=[]\n",
    "Ac_am_test=[]\n",
    "Ac_as_train=[]\n",
    "Ac_as_test=[]\n",
    "Ac_eu_train=[]\n",
    "Ac_eu_test=[]"
   ]
  },
  {
   "cell_type": "markdown",
   "metadata": {},
   "source": [
    "## Perceptron"
   ]
  },
  {
   "cell_type": "code",
   "execution_count": 37,
   "metadata": {},
   "outputs": [],
   "source": [
    "clf_perceptron = Perceptron(tol=0.00001,random_state=0)\n",
    "label3=np.ones(len(labels))\n",
    "label3[America_ind]=-1"
   ]
  },
  {
   "cell_type": "code",
   "execution_count": 38,
   "metadata": {},
   "outputs": [
    {
     "data": {
      "text/plain": [
       "Perceptron(alpha=0.0001, class_weight=None, eta0=1.0, fit_intercept=True,\n",
       "      max_iter=None, n_iter=None, n_jobs=1, penalty=None, random_state=0,\n",
       "      shuffle=True, tol=1e-05, verbose=0, warm_start=False)"
      ]
     },
     "execution_count": 38,
     "metadata": {},
     "output_type": "execute_result"
    }
   ],
   "source": [
    "X_train, X_test, y_train, y_test = train_test_split(binary_assignment, label2, test_size=0.2, random_state=0)\n",
    "clf_perceptron.fit(X_train, y_train)"
   ]
  },
  {
   "cell_type": "code",
   "execution_count": 175,
   "metadata": {},
   "outputs": [
    {
     "name": "stdout",
     "output_type": "stream",
     "text": [
      "\tAccuracy of test 0.9054682589566311\n",
      "\tAccuracy of training 0.9465413746503661\n"
     ]
    }
   ],
   "source": [
    "y_pcp_test_pred=clf_perceptron.predict(X_test)\n",
    "y_pcp_train_pred=clf_perceptron.predict(X_train)\n",
    "accuracy_pcp_test = np.sum(y_test_pred == y_test) / len(y_test)\n",
    "accuracy_pcp_train = np.sum(y_train_pred == y_train) / len(y_train)\n",
    "print('\\tAccuracy of test', accuracy_pcp_test)\n",
    "print('\\tAccuracy of training',accuracy_pcp_train)"
   ]
  },
  {
   "cell_type": "code",
   "execution_count": 184,
   "metadata": {},
   "outputs": [
    {
     "name": "stdout",
     "output_type": "stream",
     "text": [
      "[[0.86613021 0.04236922 0.07140268 0.03355705]\n",
      " [0.02523775 0.90185906 0.02283436 0.06711409]\n",
      " [0.10424287 0.04798962 0.89923885 0.1409396 ]\n",
      " [0.00438917 0.0077821  0.0065241  0.75838926]]\n"
     ]
    }
   ],
   "source": [
    "cm_all_pcp = confusion_matrix(y_test, y_pcp_test_pred)\n",
    "print(cm_all_pcp/cm_all_pcp.sum(axis=0))"
   ]
  },
  {
   "cell_type": "code",
   "execution_count": 52,
   "metadata": {},
   "outputs": [
    {
     "name": "stdout",
     "output_type": "stream",
     "text": [
      "CPU times: user 5.01 s, sys: 323 ms, total: 5.33 s\n",
      "Wall time: 5.41 s\n"
     ]
    },
    {
     "data": {
      "text/plain": [
       "Perceptron(alpha=0.0001, class_weight=None, eta0=1.0, fit_intercept=True,\n",
       "      max_iter=None, n_iter=None, n_jobs=1, penalty=None, random_state=0,\n",
       "      shuffle=True, tol=1e-05, verbose=0, warm_start=False)"
      ]
     },
     "execution_count": 52,
     "metadata": {},
     "output_type": "execute_result"
    }
   ],
   "source": [
    "X_train_am, X_test_am, y_train_am, y_test_am = train_test_split(America_X, America_y, test_size=0.2, random_state=0)\n",
    "clf_pcp_Am=Perceptron(tol=0.00001,random_state=0)\n",
    "%time clf_pcp_Am.fit(X_train_am,y_train_am)"
   ]
  },
  {
   "cell_type": "code",
   "execution_count": 135,
   "metadata": {},
   "outputs": [
    {
     "name": "stdout",
     "output_type": "stream",
     "text": [
      "\tAccuracy of test 0.8635338345864662\n",
      "\tAccuracy of training 0.9563786781987402\n"
     ]
    }
   ],
   "source": [
    "y_test_pred_am=clf_pcp_Am.predict(X_test_am)\n",
    "y_train_pred_am=clf_pcp_Am.predict(X_train_am)\n",
    "accuracy_test_am = np.sum(y_test_pred_am == y_test_am) / len(y_test_am)\n",
    "accuracy_train_am = np.sum(y_train_pred_am == y_train_am) / len(y_train_am)\n",
    "print('\\tAccuracy of test', accuracy_test_am)\n",
    "print('\\tAccuracy of training',accuracy_train_am)"
   ]
  },
  {
   "cell_type": "code",
   "execution_count": 183,
   "metadata": {},
   "outputs": [
    {
     "name": "stdout",
     "output_type": "stream",
     "text": [
      "[[0.56198347 0.         0.03658537 0.01388889 0.00797267]\n",
      " [0.04958678 0.75971731 0.         0.01466049 0.06833713]\n",
      " [0.04958678 0.01413428 0.84146341 0.00694444 0.01138952]\n",
      " [0.15702479 0.04240283 0.02439024 0.92515432 0.06264237]\n",
      " [0.18181818 0.18374558 0.09756098 0.03935185 0.84965831]]\n",
      "['cajun_creole', 'southern_us', 'jamaican', 'mexican', 'brazilian']\n"
     ]
    }
   ],
   "source": [
    "cm_am = confusion_matrix(y_test_am, y_test_pred_am)\n",
    "print((cm_am/cm_am.sum(axis=0)))\n",
    "print(America)"
   ]
  },
  {
   "cell_type": "code",
   "execution_count": 69,
   "metadata": {},
   "outputs": [
    {
     "name": "stdout",
     "output_type": "stream",
     "text": [
      "CPU times: user 4.5 s, sys: 6.05 ms, total: 4.51 s\n",
      "Wall time: 4.52 s\n"
     ]
    },
    {
     "data": {
      "text/plain": [
       "Perceptron(alpha=0.0001, class_weight=None, eta0=1.0, fit_intercept=True,\n",
       "      max_iter=None, n_iter=None, n_jobs=1, penalty=None, random_state=0,\n",
       "      shuffle=True, tol=1e-05, verbose=0, warm_start=False)"
      ]
     },
     "execution_count": 69,
     "metadata": {},
     "output_type": "execute_result"
    }
   ],
   "source": [
    "X_train_as, X_test_as, y_train_as, y_test_as= train_test_split(Asia_X, Asia_y, test_size=0.2, random_state=0,shuffle=True)\n",
    "clf_pcp_as=Perceptron(tol=0.00001,random_state=0)\n",
    "%time clf_pcp_as.fit(X_train_as,y_train_as)"
   ]
  },
  {
   "cell_type": "code",
   "execution_count": 187,
   "metadata": {},
   "outputs": [
    {
     "name": "stdout",
     "output_type": "stream",
     "text": [
      "\tAccuracy of test 0.7923076923076923\n",
      "\tAccuracy of training 0.9179678660330391\n",
      "[[0.86725664 0.11864407 0.01172529 0.08955224 0.15686275 0.07443366\n",
      "  0.12315271]\n",
      " [0.02212389 0.6440678  0.00502513 0.01492537 0.01960784 0.01618123\n",
      "  0.02463054]\n",
      " [0.00442478 0.06214689 0.90954774 0.03731343 0.01470588 0.03883495\n",
      "  0.03448276]\n",
      " [0.05973451 0.06214689 0.0519263  0.82462687 0.06372549 0.01294498\n",
      "  0.08374384]\n",
      " [0.01106195 0.01129944 0.00335008 0.02238806 0.67156863 0.00323625\n",
      "  0.02955665]\n",
      " [0.0199115  0.03389831 0.01507538 0.00746269 0.04411765 0.77346278\n",
      "  0.18719212]\n",
      " [0.01548673 0.06779661 0.00335008 0.00373134 0.02941176 0.08090615\n",
      "  0.51724138]]\n"
     ]
    }
   ],
   "source": [
    "y_test_pred_as=clf_pcp_as.predict(X_test_as)\n",
    "y_train_pred_as=clf_pcp_as.predict(X_train_as)\n",
    "accuracy_test_as = np.sum(y_test_pred_as == y_test_as) / len(y_test_as)\n",
    "accuracy_train_as = np.sum(y_train_pred_as == y_train_as) / len(y_train_as)\n",
    "print('\\tAccuracy of test', accuracy_test_as)\n",
    "print('\\tAccuracy of training',accuracy_train_as)\n",
    "cm_pcp_as = confusion_matrix(y_test_as, y_test_pred_as)"
   ]
  },
  {
   "cell_type": "code",
   "execution_count": 74,
   "metadata": {},
   "outputs": [
    {
     "name": "stdout",
     "output_type": "stream",
     "text": [
      "CPU times: user 1.55 s, sys: 216 ms, total: 1.76 s\n",
      "Wall time: 1.79 s\n"
     ]
    },
    {
     "data": {
      "text/plain": [
       "Perceptron(alpha=0.0001, class_weight=None, eta0=1.0, fit_intercept=True,\n",
       "      max_iter=None, n_iter=None, n_jobs=1, penalty=None, random_state=0,\n",
       "      shuffle=True, tol=1e-05, verbose=0, warm_start=False)"
      ]
     },
     "execution_count": 74,
     "metadata": {},
     "output_type": "execute_result"
    }
   ],
   "source": [
    "X_train_eu, X_test_eu, y_train_eu, y_test_eu= train_test_split(EU_X, EU_y, test_size=0.2, random_state=0,shuffle=True)\n",
    "clf_pcp_eu=Perceptron(tol=0.00001,random_state=0)\n",
    "%time clf_pcp_eu.fit(X_train_eu,y_train_eu)"
   ]
  },
  {
   "cell_type": "code",
   "execution_count": 77,
   "metadata": {},
   "outputs": [
    {
     "name": "stdout",
     "output_type": "stream",
     "text": [
      "\tAccuracy of test 1.0\n",
      "\tAccuracy of training 1.0\n",
      "[[1750    0    0    0    0]\n",
      " [   0   97    0    0    0]\n",
      " [   0    0  538    0    0]\n",
      " [   0    0    0  413    0]\n",
      " [   0    0    0    0  124]]\n"
     ]
    }
   ],
   "source": [
    "y_test_pred_eu=clf_pcp_eu.predict(X_test_eu)\n",
    "y_train_pred_eu=clf_pcp_eu.predict(X_train_eu)\n",
    "accuracy_test_eu = np.sum(y_test_pred_eu == y_test_eu) / len(y_test_eu)\n",
    "accuracy_train_eu = np.sum(y_train_pred_eu == y_train_eu) / len(y_train_eu)\n",
    "print('\\tAccuracy of test', accuracy_test_eu)\n",
    "print('\\tAccuracy of training',accuracy_train_eu)\n",
    "cm_eu = confusion_matrix(y_test_eu, y_test_pred_eu)\n",
    "print(cm_eu)"
   ]
  },
  {
   "cell_type": "code",
   "execution_count": 142,
   "metadata": {},
   "outputs": [],
   "source": [
    "accuracy_cont_train=[accuracy_pcp_train]\n",
    "accuracy_cont_test=[accuracy_pcp_test]"
   ]
  },
  {
   "cell_type": "code",
   "execution_count": 136,
   "metadata": {},
   "outputs": [],
   "source": [
    "Ac_am_train.append(accuracy_train_am)\n",
    "Ac_am_test.append(accuracy_test_am)\n",
    "Ac_as_train.append(accuracy_train_as)\n",
    "Ac_as_test.append(accuracy_test_as)\n",
    "Ac_eu_train.append(accuracy_train_eu)\n",
    "Ac_eu_test.append(accuracy_test_eu)"
   ]
  },
  {
   "cell_type": "code",
   "execution_count": 226,
   "metadata": {},
   "outputs": [],
   "source": [
    "pickle.dump(clf_perceptron, open('pcp_cont', 'wb'))\n",
    "pickle.dump(clf_pcp_Am, open('pcp_am', 'wb'))\n",
    "pickle.dump(clf_pcp_as, open('pcp_as', 'wb'))\n",
    "pickle.dump(clf_pcp_eu, open('pcp_eu', 'wb'))"
   ]
  },
  {
   "cell_type": "markdown",
   "metadata": {},
   "source": [
    "## Logistic Regression"
   ]
  },
  {
   "cell_type": "code",
   "execution_count": 208,
   "metadata": {},
   "outputs": [
    {
     "name": "stdout",
     "output_type": "stream",
     "text": [
      "CPU times: user 1h 27min 31s, sys: 1min 7s, total: 1h 28min 39s\n",
      "Wall time: 22min 40s\n"
     ]
    },
    {
     "data": {
      "text/plain": [
       "LogisticRegressionCV(Cs=[1, 2, 3, 5], class_weight=None, cv=5, dual=False,\n",
       "           fit_intercept=True, intercept_scaling=1.0, max_iter=100,\n",
       "           multi_class='ovr', n_jobs=1, penalty='l2', random_state=0,\n",
       "           refit=True, scoring=None, solver='lbfgs', tol=0.0001, verbose=0)"
      ]
     },
     "execution_count": 208,
     "metadata": {},
     "output_type": "execute_result"
    }
   ],
   "source": [
    "Cs = [1,2,3,5]\n",
    "clf = LogisticRegressionCV(Cs,cv=5, random_state=0,multi_class='ovr')\n",
    "%time clf.fit(X_train, y_train)"
   ]
  },
  {
   "cell_type": "code",
   "execution_count": 213,
   "metadata": {},
   "outputs": [
    {
     "name": "stdout",
     "output_type": "stream",
     "text": [
      "CPU times: user 1h 29min 3s, sys: 56.6 s, total: 1h 29min 59s\n",
      "Wall time: 22min 54s\n"
     ]
    },
    {
     "data": {
      "text/plain": [
       "LogisticRegressionCV(Cs=[1, 2, 3, 5], class_weight='balanced', cv=5,\n",
       "           dual=False, fit_intercept=True, intercept_scaling=1.0,\n",
       "           max_iter=100, multi_class='ovr', n_jobs=1, penalty='l2',\n",
       "           random_state=0, refit=True, scoring=None, solver='lbfgs',\n",
       "           tol=0.0001, verbose=0)"
      ]
     },
     "execution_count": 213,
     "metadata": {},
     "output_type": "execute_result"
    }
   ],
   "source": [
    "Cs = [1,2,3,5]\n",
    "clf_cw = LogisticRegressionCV(Cs,cv=5, random_state=0,multi_class='ovr',class_weight='balanced')\n",
    "%time clf_cw.fit(X_train, y_train)"
   ]
  },
  {
   "cell_type": "code",
   "execution_count": 209,
   "metadata": {},
   "outputs": [],
   "source": [
    "y_test_pred=clf.predict(X_test)\n",
    "y_train_pred=clf.predict(X_train)\n",
    "accuracy_lr_test = np.sum(y_test_pred == y_test) / len(y_test)\n",
    "accuracy_lr_train = np.sum(y_train_pred == y_train) / len(y_train)"
   ]
  },
  {
   "cell_type": "code",
   "execution_count": 214,
   "metadata": {},
   "outputs": [],
   "source": [
    "y_test_pred_wb=clf_cw.predict(X_test)\n",
    "y_train_pred_wb=clf_cw.predict(X_train)\n",
    "accuracy_lr_test_wb = np.sum(y_test_pred_wb == y_test) / len(y_test)\n",
    "accuracy_lr_train_wb = np.sum(y_train_pred_wb == y_train) / len(y_train)"
   ]
  },
  {
   "cell_type": "code",
   "execution_count": 210,
   "metadata": {},
   "outputs": [],
   "source": [
    "accuracy_cont_train.append(accuracy_lr_train)\n",
    "accuracy_cont_test.append(accuracy_lr_test)"
   ]
  },
  {
   "cell_type": "code",
   "execution_count": 215,
   "metadata": {},
   "outputs": [
    {
     "name": "stdout",
     "output_type": "stream",
     "text": [
      "\tAccuracy of test 0.9054682589566311\n",
      "\tAccuracy of training 0.9465413746503661\n",
      "\tAccuracy of test 0.8986800754242614\n",
      "\tAccuracy of training 0.9474527797856627\n"
     ]
    }
   ],
   "source": [
    "print('\\tAccuracy of test', accuracy_lr_test)\n",
    "print('\\tAccuracy of training',accuracy_lr_train)\n",
    "print('\\tAccuracy of test', accuracy_lr_test_wb)\n",
    "print('\\tAccuracy of training',accuracy_lr_train_wb)"
   ]
  },
  {
   "cell_type": "code",
   "execution_count": 217,
   "metadata": {},
   "outputs": [],
   "source": [
    "cm = confusion_matrix(y_test, y_test_pred)\n",
    "cm_wb=confusion_matrix(y_test, y_test_pred_wb)"
   ]
  },
  {
   "cell_type": "code",
   "execution_count": 93,
   "metadata": {},
   "outputs": [
    {
     "name": "stdout",
     "output_type": "stream",
     "text": [
      "CPU times: user 24min, sys: 22.2 s, total: 24min 22s\n",
      "Wall time: 6min 11s\n"
     ]
    },
    {
     "data": {
      "text/plain": [
       "LogisticRegressionCV(Cs=[1, 2, 3, 5], class_weight=None, cv=5, dual=False,\n",
       "           fit_intercept=True, intercept_scaling=1.0, max_iter=100,\n",
       "           multi_class='ovr', n_jobs=1, penalty='l2', random_state=0,\n",
       "           refit=True, scoring=None, solver='lbfgs', tol=0.0001, verbose=0)"
      ]
     },
     "execution_count": 93,
     "metadata": {},
     "output_type": "execute_result"
    }
   ],
   "source": [
    "clf_lr_am = LogisticRegressionCV(Cs,cv=5, random_state=0,multi_class='ovr')\n",
    "%time clf_lr_am.fit(X_train_am, y_train_am)"
   ]
  },
  {
   "cell_type": "code",
   "execution_count": 94,
   "metadata": {},
   "outputs": [],
   "source": [
    "y_test_predlr_am=clf_lr_am.predict(X_test_am)\n",
    "y_train_predlr_am=clf_lr_am.predict(X_train_am)\n",
    "accuracy_test_lr_am = np.sum(y_test_predlr_am == y_test_am) / len(y_test_am)\n",
    "accuracy_train_lr_am = np.sum(y_train_predlr_am == y_train_am) / len(y_train_am)"
   ]
  },
  {
   "cell_type": "code",
   "execution_count": 97,
   "metadata": {},
   "outputs": [
    {
     "name": "stdout",
     "output_type": "stream",
     "text": [
      "\tAccuracy of test 0.8823308270676692\n",
      "\tAccuracy of training 0.9569427470151358\n"
     ]
    }
   ],
   "source": [
    "print('\\tAccuracy of test', accuracy_test_lr_am)\n",
    "print('\\tAccuracy of training',accuracy_train_lr_am)"
   ]
  },
  {
   "cell_type": "code",
   "execution_count": 98,
   "metadata": {},
   "outputs": [
    {
     "name": "stdout",
     "output_type": "stream",
     "text": [
      "CPU times: user 28min 39s, sys: 31.3 s, total: 29min 10s\n",
      "Wall time: 7min 25s\n"
     ]
    }
   ],
   "source": [
    "clf_lr_as = LogisticRegressionCV(Cs,cv=5, random_state=0,multi_class='ovr')\n",
    "%time clf_lr_as.fit(X_train_as, y_train_as)\n",
    "y_test_predlr_as=clf_lr_as.predict(X_test_as)\n",
    "y_train_predlr_as=clf_lr_as.predict(X_train_as)\n",
    "accuracy_test_lr_as = np.sum(y_test_predlr_as == y_test_as) / len(y_test_as)\n",
    "accuracy_train_lr_as = np.sum(y_train_predlr_as == y_train_as) / len(y_train_as)"
   ]
  },
  {
   "cell_type": "code",
   "execution_count": 99,
   "metadata": {},
   "outputs": [
    {
     "name": "stdout",
     "output_type": "stream",
     "text": [
      "\tAccuracy of test 0.820814479638009\n",
      "\tAccuracy of training 0.9314324507807196\n"
     ]
    }
   ],
   "source": [
    "print('\\tAccuracy of test', accuracy_test_lr_as)\n",
    "print('\\tAccuracy of training',accuracy_train_lr_as)"
   ]
  },
  {
   "cell_type": "code",
   "execution_count": 100,
   "metadata": {},
   "outputs": [
    {
     "name": "stdout",
     "output_type": "stream",
     "text": [
      "CPU times: user 6min 27s, sys: 12 s, total: 6min 39s\n",
      "Wall time: 1min 46s\n"
     ]
    }
   ],
   "source": [
    "clf_lr_eu = LogisticRegressionCV(Cs,cv=5, random_state=0,multi_class='ovr')\n",
    "%time clf_lr_eu.fit(X_train_eu, y_train_eu)\n",
    "y_test_predlr_eu=clf_lr_eu.predict(X_test_eu)\n",
    "y_train_predlr_eu=clf_lr_eu.predict(X_train_eu)\n",
    "accuracy_test_lr_eu = np.sum(y_test_predlr_eu == y_test_eu) / len(y_test_eu)\n",
    "accuracy_train_lr_eu = np.sum(y_train_predlr_eu == y_train_eu) / len(y_train_eu)"
   ]
  },
  {
   "cell_type": "code",
   "execution_count": 101,
   "metadata": {},
   "outputs": [
    {
     "name": "stdout",
     "output_type": "stream",
     "text": [
      "\tAccuracy of test 1.0\n",
      "\tAccuracy of training 1.0\n"
     ]
    }
   ],
   "source": [
    "print('\\tAccuracy of test', accuracy_test_lr_eu)\n",
    "print('\\tAccuracy of training',accuracy_train_lr_eu)"
   ]
  },
  {
   "cell_type": "code",
   "execution_count": 137,
   "metadata": {},
   "outputs": [],
   "source": [
    "Ac_am_train.append(accuracy_train_lr_am)\n",
    "Ac_am_test.append(accuracy_test_lr_am)\n",
    "Ac_as_train.append(accuracy_train_lr_as)\n",
    "Ac_as_test.append(accuracy_test_lr_as)\n",
    "Ac_eu_train.append(accuracy_train_lr_eu)\n",
    "Ac_eu_test.append(accuracy_test_lr_eu)"
   ]
  },
  {
   "cell_type": "code",
   "execution_count": 225,
   "metadata": {},
   "outputs": [],
   "source": [
    "pickle.dump(clf, open('log_cont', 'wb'))\n",
    "pickle.dump(clf_lr_am, open('log_am', 'wb'))\n",
    "pickle.dump(clf_lr_as, open('log_as', 'wb'))\n",
    "pickle.dump(clf_lr_eu, open('log_eu', 'wb'))"
   ]
  },
  {
   "cell_type": "markdown",
   "metadata": {},
   "source": [
    "## Soft Linear SVM Classifier"
   ]
  },
  {
   "cell_type": "code",
   "execution_count": 102,
   "metadata": {},
   "outputs": [
    {
     "name": "stdout",
     "output_type": "stream",
     "text": [
      "CPU times: user 2min 9s, sys: 47 s, total: 2min 56s\n",
      "Wall time: 3min 3s\n"
     ]
    },
    {
     "data": {
      "text/plain": [
       "GridSearchCV(cv=ShuffleSplit(n_splits=5, random_state=None, test_size=0.1, train_size=0.9),\n",
       "       error_score='raise',\n",
       "       estimator=LinearSVC(C=1.0, class_weight=None, dual=True, fit_intercept=True,\n",
       "     intercept_scaling=1, loss='squared_hinge', max_iter=1000,\n",
       "     multi_class='ovr', penalty='l2', random_state=0, tol=1e-05, verbose=0),\n",
       "       fit_params=None, iid=True, n_jobs=1,\n",
       "       param_grid={'C': array([0.01, 0.12, 0.23, 0.34, 0.45, 0.56, 0.67, 0.78, 0.89, 1.  ])},\n",
       "       pre_dispatch='2*n_jobs', refit=True, return_train_score='warn',\n",
       "       scoring=None, verbose=0)"
      ]
     },
     "execution_count": 102,
     "metadata": {},
     "output_type": "execute_result"
    }
   ],
   "source": [
    "parameters = { 'C' :np.linspace(0.01,1,10)}\n",
    "ss = ShuffleSplit(n_splits=5, test_size=0.1,train_size=0.9)\n",
    "svm_classif = GridSearchCV(LinearSVC(random_state=0, tol=1e-5,multi_class='ovr',penalty='l2'),param_grid=parameters,cv=ss)\n",
    "%time svm_classif.fit(X_train, y_train)"
   ]
  },
  {
   "cell_type": "code",
   "execution_count": 222,
   "metadata": {},
   "outputs": [],
   "source": [
    "import pickle"
   ]
  },
  {
   "cell_type": "code",
   "execution_count": 223,
   "metadata": {},
   "outputs": [],
   "source": [
    "pickle.dump(svm_classif, open('SVM_cont', 'wb'))"
   ]
  },
  {
   "cell_type": "code",
   "execution_count": 106,
   "metadata": {},
   "outputs": [],
   "source": [
    "y_test_pred2=svm_classif.best_estimator_.predict(X_test)\n",
    "y_train_pred2=svm_classif.best_estimator_.predict(X_train)\n",
    "accuracy_test2 = np.sum(y_test_pred2 == y_test) / len(y_test)\n",
    "accuracy_train2 = np.sum(y_train_pred2 == y_train) / len(y_train)"
   ]
  },
  {
   "cell_type": "code",
   "execution_count": 144,
   "metadata": {},
   "outputs": [
    {
     "name": "stdout",
     "output_type": "stream",
     "text": [
      "\tAccuracy of test 0.9077309868007543\n",
      "\tAccuracy of training 0.9531097771771583\n"
     ]
    }
   ],
   "source": [
    "accuracy_cont_train.append(accuracy_train2)\n",
    "accuracy_cont_test.append(accuracy_test2)\n",
    "print('\\tAccuracy of test', accuracy_test2)\n",
    "print('\\tAccuracy of training',accuracy_train2)"
   ]
  },
  {
   "cell_type": "code",
   "execution_count": 122,
   "metadata": {},
   "outputs": [],
   "source": [
    "import matplotlib.pyplot as plt"
   ]
  },
  {
   "cell_type": "code",
   "execution_count": 185,
   "metadata": {},
   "outputs": [
    {
     "name": "stdout",
     "output_type": "stream",
     "text": [
      "[[0.90467075 0.02809243 0.08002668 0.02189781]\n",
      " [0.02220521 0.94608065 0.02500834 0.05109489]\n",
      " [0.0704441  0.02038967 0.88562854 0.09489051]\n",
      " [0.00267994 0.00543725 0.00933645 0.83211679]]\n"
     ]
    }
   ],
   "source": [
    "cm = confusion_matrix(y_test, y_test_pred2)\n",
    "print(cm/cm.sum(axis=0))"
   ]
  },
  {
   "cell_type": "code",
   "execution_count": 108,
   "metadata": {},
   "outputs": [
    {
     "name": "stdout",
     "output_type": "stream",
     "text": [
      "CPU times: user 34.5 s, sys: 11.1 s, total: 45.6 s\n",
      "Wall time: 45.9 s\n"
     ]
    }
   ],
   "source": [
    "svm_classif_am = GridSearchCV(LinearSVC(random_state=0, tol=1e-5,multi_class='ovr',penalty='l2'),param_grid=parameters,cv=ss)\n",
    "%time svm_classif_am.fit(X_train_am, y_train_am)\n",
    "y_test_pred_svm_am=svm_classif_am.best_estimator_.predict(X_test_am)\n",
    "y_train_pred_svm_am=svm_classif_am.best_estimator_.predict(X_train_am)\n",
    "accuracy_test_svm_am = np.sum(y_test_pred_svm_am == y_test_am) / len(y_test_am)\n",
    "accuracy_train2_svm_am = np.sum(y_train_pred_svm_am == y_train_am) / len(y_train_am)"
   ]
  },
  {
   "cell_type": "code",
   "execution_count": 109,
   "metadata": {},
   "outputs": [
    {
     "name": "stdout",
     "output_type": "stream",
     "text": [
      "\tAccuracy of test 0.8823308270676692\n",
      "\tAccuracy of training 0.9512080473817806\n"
     ]
    }
   ],
   "source": [
    "print('\\tAccuracy of test', accuracy_test_svm_am)\n",
    "print('\\tAccuracy of training',accuracy_train2_svm_am)"
   ]
  },
  {
   "cell_type": "code",
   "execution_count": 110,
   "metadata": {},
   "outputs": [
    {
     "name": "stdout",
     "output_type": "stream",
     "text": [
      "CPU times: user 32.9 s, sys: 9.31 s, total: 42.2 s\n",
      "Wall time: 42.4 s\n"
     ]
    }
   ],
   "source": [
    "svm_classif_as = GridSearchCV(LinearSVC(random_state=0, tol=1e-5,multi_class='ovr',penalty='l2'),param_grid=parameters,cv=ss)\n",
    "%time svm_classif_as.fit(X_train_as, y_train_as)\n",
    "y_test_pred_svm_as=svm_classif_as.best_estimator_.predict(X_test_as)\n",
    "y_train_pred_svm_as=svm_classif_as.best_estimator_.predict(X_train_as)\n",
    "accuracy_test_svm_as = np.sum(y_test_pred_svm_as == y_test_as) / len(y_test_as)\n",
    "accuracy_train2_svm_as = np.sum(y_train_pred_svm_as == y_train_as) / len(y_train_as)"
   ]
  },
  {
   "cell_type": "code",
   "execution_count": 111,
   "metadata": {},
   "outputs": [
    {
     "name": "stdout",
     "output_type": "stream",
     "text": [
      "\tAccuracy of test 0.8253393665158371\n",
      "\tAccuracy of training 0.9288300520479746\n"
     ]
    }
   ],
   "source": [
    "print('\\tAccuracy of test', accuracy_test_svm_as)\n",
    "print('\\tAccuracy of training',accuracy_train2_svm_as)"
   ]
  },
  {
   "cell_type": "code",
   "execution_count": 112,
   "metadata": {},
   "outputs": [
    {
     "name": "stdout",
     "output_type": "stream",
     "text": [
      "CPU times: user 54.6 s, sys: 12.9 s, total: 1min 7s\n",
      "Wall time: 1min 8s\n"
     ]
    }
   ],
   "source": [
    "svm_classif_eu = GridSearchCV(LinearSVC(random_state=0, tol=1e-5,multi_class='ovr',penalty='l2'),param_grid=parameters,cv=ss)\n",
    "%time svm_classif_eu.fit(X_train_eu, y_train_eu)\n",
    "y_test_pred_svm_eu=svm_classif_eu.best_estimator_.predict(X_test_eu)\n",
    "y_train_pred_svm_eu=svm_classif_eu.best_estimator_.predict(X_train_eu)\n",
    "accuracy_test_svm_eu = np.sum(y_test_pred_svm_eu == y_test_eu) / len(y_test_eu)\n",
    "accuracy_train2_svm_eu = np.sum(y_train_pred_svm_eu == y_train_eu) / len(y_train_eu)"
   ]
  },
  {
   "cell_type": "code",
   "execution_count": 113,
   "metadata": {},
   "outputs": [
    {
     "name": "stdout",
     "output_type": "stream",
     "text": [
      "\tAccuracy of test 1.0\n",
      "\tAccuracy of training 1.0\n"
     ]
    }
   ],
   "source": [
    "print('\\tAccuracy of test', accuracy_test_svm_eu)\n",
    "print('\\tAccuracy of training',accuracy_train2_svm_eu)"
   ]
  },
  {
   "cell_type": "code",
   "execution_count": 224,
   "metadata": {},
   "outputs": [],
   "source": [
    "pickle.dump(svm_classif_am, open('SVM_am', 'wb'))\n",
    "pickle.dump(svm_classif_as, open('SVM_as', 'wb'))\n",
    "pickle.dump(svm_classif_eu, open('SVM_eu', 'wb'))"
   ]
  },
  {
   "cell_type": "code",
   "execution_count": 138,
   "metadata": {},
   "outputs": [],
   "source": [
    "Ac_am_train.append(accuracy_train2_svm_am)\n",
    "Ac_am_test.append(accuracy_test_svm_am)\n",
    "Ac_as_train.append(accuracy_train2_svm_as)\n",
    "Ac_as_test.append(accuracy_test_svm_as)\n",
    "Ac_eu_train.append(accuracy_train2_svm_eu)\n",
    "Ac_eu_test.append(accuracy_test_svm_eu)"
   ]
  },
  {
   "cell_type": "markdown",
   "metadata": {},
   "source": [
    "## Evaluate model accuracy"
   ]
  },
  {
   "cell_type": "code",
   "execution_count": 145,
   "metadata": {},
   "outputs": [
    {
     "data": {
      "text/plain": [
       "<matplotlib.legend.Legend at 0x126592b00>"
      ]
     },
     "execution_count": 145,
     "metadata": {},
     "output_type": "execute_result"
    },
    {
     "data": {
      "image/png": "[encoded data removed]",
      "text/plain": [
       "<matplotlib.figure.Figure at 0x126652630>"
      ]
     },
     "metadata": {},
     "output_type": "display_data"
    }
   ],
   "source": [
    "models=['perceptron','logistic regression','Linear SVM']\n",
    "m = np.arange(len(models)) \n",
    "width = 0.35 \n",
    "fig, ax = plt.subplots()\n",
    "ax.bar(m+width/2,accuracy_cont_train,width,label='training')\n",
    "ax.bar(m-width/2,accuracy_cont_test,width,label='testing')\n",
    "ax.set_ylabel('Accuracy')\n",
    "ax.set_title('Training and testing accuracy by models for continent classification')\n",
    "ax.set_xticks(m)\n",
    "ax.set_xticklabels(models)\n",
    "ax.legend()"
   ]
  },
  {
   "cell_type": "code",
   "execution_count": 139,
   "metadata": {},
   "outputs": [
    {
     "data": {
      "text/plain": [
       "<matplotlib.legend.Legend at 0x12674e8d0>"
      ]
     },
     "execution_count": 139,
     "metadata": {},
     "output_type": "execute_result"
    },
    {
     "data": {
      "image/png": "[encoded data removed]",
      "text/plain": [
       "<matplotlib.figure.Figure at 0x1267d9550>"
      ]
     },
     "metadata": {},
     "output_type": "display_data"
    }
   ],
   "source": [
    "width = 0.35 \n",
    "fig, ax = plt.subplots()\n",
    "ax.bar(m+width/2,Ac_am_train,width,label='training')\n",
    "ax.bar(m-width/2,Ac_am_test,width,label='testing')\n",
    "ax.set_ylabel('Accuracy')\n",
    "ax.set_title('Training and testing accuracy by models for countries in North and South America')\n",
    "ax.set_xticks(m)\n",
    "ax.set_xticklabels(models)\n",
    "ax.legend()"
   ]
  },
  {
   "cell_type": "code",
   "execution_count": 140,
   "metadata": {
    "scrolled": true
   },
   "outputs": [
    {
     "data": {
      "text/plain": [
       "<matplotlib.legend.Legend at 0x1266ccb70>"
      ]
     },
     "execution_count": 140,
     "metadata": {},
     "output_type": "execute_result"
    },
    {
     "data": {
      "image/png": "[encoded data removed]",
      "text/plain": [
       "<matplotlib.figure.Figure at 0x12679cc88>"
      ]
     },
     "metadata": {},
     "output_type": "display_data"
    }
   ],
   "source": [
    "width = 0.35 \n",
    "fig, ax = plt.subplots()\n",
    "ax.bar(m+width/2,Ac_as_train,width,label='training')\n",
    "ax.bar(m-width/2,Ac_as_test,width,label='testing')\n",
    "ax.set_ylabel('Accuracy')\n",
    "ax.set_title('Training and testing accuracy by models for countries in Asia')\n",
    "ax.set_xticks(m)\n",
    "ax.set_xticklabels(models)\n",
    "ax.legend()"
   ]
  },
  {
   "cell_type": "code",
   "execution_count": 141,
   "metadata": {},
   "outputs": [
    {
     "data": {
      "text/plain": [
       "<matplotlib.legend.Legend at 0x126686e80>"
      ]
     },
     "execution_count": 141,
     "metadata": {},
     "output_type": "execute_result"
    },
    {
     "data": {
      "image/png": "[encoded data removed]",
      "text/plain": [
       "<matplotlib.figure.Figure at 0x126727860>"
      ]
     },
     "metadata": {},
     "output_type": "display_data"
    }
   ],
   "source": [
    "width = 0.35 \n",
    "fig, ax = plt.subplots()\n",
    "ax.bar(m+width/2,Ac_eu_train,width,label='training')\n",
    "ax.bar(m-width/2,Ac_eu_test,width,label='testing')\n",
    "ax.set_ylabel('Accuracy')\n",
    "ax.set_title('Training and testing accuracy by models for countries in Europe')\n",
    "ax.set_xticks(m)\n",
    "ax.set_xticklabels(models)\n",
    "ax.legend()"
   ]
  },
  {
   "cell_type": "code",
   "execution_count": 150,
   "metadata": {},
   "outputs": [
    {
     "data": {
      "text/plain": [
       "6714"
      ]
     },
     "execution_count": 150,
     "metadata": {},
     "output_type": "execute_result"
    }
   ],
   "source": [
    "len(EU_X.sum(axis=0))"
   ]
  },
  {
   "cell_type": "code",
   "execution_count": 164,
   "metadata": {},
   "outputs": [
    {
     "data": {
      "text/plain": [
       "<matplotlib.collections.PathCollection at 0x12701a400>"
      ]
     },
     "execution_count": 164,
     "metadata": {},
     "output_type": "execute_result"
    },
    {
     "data": {
      "image/png": "[encoded data removed]",
      "text/plain": [
       "<matplotlib.figure.Figure at 0x126aa4860>"
      ]
     },
     "metadata": {},
     "output_type": "display_data"
    }
   ],
   "source": [
    "x_l=np.arange(6714)\n",
    "plt.scatter(x_l,EU_X.sum(axis=0),marker='*')\n",
    "plt.scatter(x_l,Asia_X.sum(axis=0),marker='*')\n",
    "plt.scatter(x_l,America_X.sum(axis=0),marker='*')\n",
    "plt.scatter(x_l,Africa_X.sum(axis=0),marker='*')"
   ]
  },
  {
   "cell_type": "code",
   "execution_count": null,
   "metadata": {},
   "outputs": [],
   "source": []
  }
 ],
 "metadata": {
  "kernelspec": {
   "display_name": "Python 3",
   "language": "python",
   "name": "python3"
  },
  "language_info": {
   "codemirror_mode": {
    "name": "ipython",
    "version": 3
   },
   "file_extension": ".py",
   "mimetype": "text/x-python",
   "name": "python",
   "nbconvert_exporter": "python",
   "pygments_lexer": "ipython3",
   "version": "3.6.8"
  }
 },
 "nbformat": 4,
 "nbformat_minor": 2
}
