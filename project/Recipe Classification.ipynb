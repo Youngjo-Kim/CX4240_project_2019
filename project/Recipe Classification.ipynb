{
 "cells": [
  {
   "cell_type": "markdown",
   "metadata": {},
   "source": [
    "# Import Packages "
   ]
  },
  {
   "cell_type": "code",
   "execution_count": 14,
   "metadata": {},
   "outputs": [],
   "source": [
    "import pandas as pd\n",
    "import numpy as np\n",
    "from sklearn.model_selection import train_test_split"
   ]
  },
  {
   "cell_type": "markdown",
   "metadata": {},
   "source": [
    "# Load Data"
   ]
  },
  {
   "cell_type": "code",
   "execution_count": 2,
   "metadata": {},
   "outputs": [],
   "source": [
    "data=pd.read_json('train.json')  ### Load data into a pandas dataframe"
   ]
  },
  {
   "cell_type": "code",
   "execution_count": 3,
   "metadata": {},
   "outputs": [],
   "source": [
    "unique_ingredients=[] ### Initialize the list for all ingredients \n",
    "for i in range(len(data.id)):\n",
    "    for k in data.ingredients[i]:\n",
    "        if k not in unique_ingredients:\n",
    "            unique_ingredients.append(k) ## Append the ingredient if it is not in the unique_ingredients"
   ]
  },
  {
   "cell_type": "code",
   "execution_count": 4,
   "metadata": {},
   "outputs": [],
   "source": [
    "N = len(unique_ingredients)\n",
    "M = len(data.id)\n",
    "binary_assignment=[] ## Initialize the binary_assignment as a list\n",
    "for i in range(M):\n",
    "    assigment=np.zeros(N) ### initialze the ingredients as all 0\n",
    "    for j in data.ingredients[i]:\n",
    "        assigment[unique_ingredients.index(j)]=1 ### Assigne 1 if the ingreident is in the dish\n",
    "    binary_assignment.append(assigment)"
   ]
  },
  {
   "cell_type": "code",
   "execution_count": 5,
   "metadata": {},
   "outputs": [],
   "source": [
    "binary_assignment=np.reshape(binary_assignment,(M,N)) ## Reshape the assignemt into M by N matrix "
   ]
  },
  {
   "cell_type": "code",
   "execution_count": 32,
   "metadata": {},
   "outputs": [],
   "source": [
    "labels=[]\n",
    "unique_labels=np.unique(data.cuisine)\n",
    "for i in data.cuisine:\n",
    "    labels.append(int(np.where(unique_labels==i)[0]))"
   ]
  },
  {
   "cell_type": "code",
   "execution_count": 28,
   "metadata": {},
   "outputs": [],
   "source": [
    "X_train, X_test, y_train, y_test = train_test_split(binary_assignment, labels, test_size=0.2, random_state=0)"
   ]
  },
  {
   "cell_type": "code",
   "execution_count": null,
   "metadata": {},
   "outputs": [],
   "source": []
  }
 ],
 "metadata": {
  "kernelspec": {
   "display_name": "Python 3",
   "language": "python",
   "name": "python3"
  },
  "language_info": {
   "codemirror_mode": {
    "name": "ipython",
    "version": 3
   },
   "file_extension": ".py",
   "mimetype": "text/x-python",
   "name": "python",
   "nbconvert_exporter": "python",
   "pygments_lexer": "ipython3",
   "version": "3.6.8"
  }
 },
 "nbformat": 4,
 "nbformat_minor": 2
}
