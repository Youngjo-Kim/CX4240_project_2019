{
 "cells": [
  {
   "cell_type": "markdown",
   "metadata": {},
   "source": [
    "# Geographic Classification of Cuisine Recipes\n",
    "### Jinhyeun Kim, Youngjo Kim, Jianyuan Zhai"
   ]
  },
  {
   "cell_type": "markdown",
   "metadata": {},
   "source": [
    "# Introduction\n",
    "<l>The goal fo this project is to classify the geographic origins of recipes. As a part of cultural globalization, we are exposed to various types of cuisines every day. Cuisines are different across different countries and are primarily affected by geographic conditions, such as local climate, religion, and trade. Therefore, classifying the cuisines can be used to improve our understanding of each culture and lifestyle. In this project, we obtained an existing dataset of 39774 recipes from kaggle.com for training and testing the classifiers. Our classifer contains two steps: 1) classify the recipe into four groups: North and South America, Asia, Europe, and Africa; and 2) classify the recipe into the countries in each groups. "
   ]
  },
  {
   "cell_type": "markdown",
   "metadata": {},
   "source": [
    "### Add a figure of the conceptual workflow here. "
   ]
  },
  {
   "cell_type": "markdown",
   "metadata": {},
   "source": [
    "# Methods"
   ]
  },
  {
   "cell_type": "markdown",
   "metadata": {},
   "source": [
    "## Preprocessing of Data\n",
    "<l>The dataset we obtained contains 39774 recipes from 20 countries around the world. The original format of this dataset is in json and we used 'pandas' to read this file into pandas dataframe. We identified 6714 ingredients used in this dataset and constructed a binary matrix $X$ with the size of $39774\\times 6714$. For recipe $i$, if ingredient $j$ is used, $X_{i,j}$ equals to 1, and if ingredient $j$ is not used, $X_{i,j}$ equals to 0.\n",
    "<l>The original label of the dataset is the country of origin of the recipes. In this project, we created a second set of label of the dataset that identifies the recipes into four big groups: 1) North and South America, 2) Asia, 3) Europe and 4) Africa. "
   ]
  },
  {
   "cell_type": "markdown",
   "metadata": {},
   "source": [
    "## Maybe add the histogram of the data if we group them into 4 groups. Then show the distribution of data in each group. "
   ]
  },
  {
   "cell_type": "markdown",
   "metadata": {},
   "source": [
    "## Model Training and Selection\n",
    "<br>We used ‘Scikit learn’ to help us train the classifier. We picked four types of classification algorithms in this project, perceptron, logistic regression, linear SVM and Artificial Neuron Networks. We splitted our dataset into 80% of training and 20% of testing. The best model is picked so that it has the highest testing accuracy. $$Accuracy_{test}=\\frac{Number\\: of\\: correct\\: classification}{Number\\: of \\: testing\\: samples}$$</br>\n",
    "<br>For perceptron, logistic regression and linear SVR, $l_2 \\: norm$ is used to regularize the training. The regularization parameter is chosen by cross-validation with 5 shuffle splitted subsets </br>\n",
    "<br>The final model is a sequence combination of two classifiers as shown in the workflow below.</br>"
   ]
  },
  {
   "cell_type": "markdown",
   "metadata": {},
   "source": [
    "# Results"
   ]
  },
  {
   "cell_type": "markdown",
   "metadata": {},
   "source": [
    "## Classifier 1\n",
    "<br>Show the train/test accuracy for all 4 models here. Show confusion matrix for the best model.</br>"
   ]
  },
  {
   "cell_type": "markdown",
   "metadata": {},
   "source": [
    "## Classifier 2"
   ]
  },
  {
   "cell_type": "markdown",
   "metadata": {},
   "source": [
    "<br>Show train/test accuracy for all 4 models for each continents. (Total 3 Figures on Accuracy) Show confusion matrix for the best model</br>"
   ]
  },
  {
   "cell_type": "markdown",
   "metadata": {},
   "source": [
    "## Overall Classifier"
   ]
  },
  {
   "cell_type": "markdown",
   "metadata": {},
   "source": [
    "Show overall confusion matrix for the combination of classifier 1 + classifier 2. "
   ]
  },
  {
   "cell_type": "markdown",
   "metadata": {},
   "source": [
    "# Discussion"
   ]
  },
  {
   "cell_type": "markdown",
   "metadata": {},
   "source": [
    "<br>Discuss the classfication result and what we have learned</br>"
   ]
  },
  {
   "cell_type": "code",
   "execution_count": null,
   "metadata": {},
   "outputs": [],
   "source": []
  }
 ],
 "metadata": {
  "kernelspec": {
   "display_name": "Python 3",
   "language": "python",
   "name": "python3"
  },
  "language_info": {
   "codemirror_mode": {
    "name": "ipython",
    "version": 3
   },
   "file_extension": ".py",
   "mimetype": "text/x-python",
   "name": "python",
   "nbconvert_exporter": "python",
   "pygments_lexer": "ipython3",
   "version": "3.6.8"
  }
 },
 "nbformat": 4,
 "nbformat_minor": 2
}
