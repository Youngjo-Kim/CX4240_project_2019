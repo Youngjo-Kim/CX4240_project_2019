{
 "cells": [
  {
   "cell_type": "markdown",
   "metadata": {},
   "source": [
    "# Project Title: Geographic Classification of Cuisine Recipes\n",
    "### Jinhyeun Kim, Youngjo Kim, Jianyuan Zhai\n",
    "<br>\n",
    "<br>"
   ]
  },
  {
   "cell_type": "markdown",
   "metadata": {},
   "source": [
    "# 1. Introduction\n",
    "## 1-1. The goal of the project\n",
    "\n",
    "<font size=\"4.5\"> __Classify__ the geographic origins of recipes based on the ingredients used</font>\n",
    "<br>\n",
    "<br>"
   ]
  },
  {
   "cell_type": "markdown",
   "metadata": {},
   "source": [
    "## 1-2. Why is it important?"
   ]
  },
  {
   "cell_type": "markdown",
   "metadata": {},
   "source": [
    "<font size=\"4.5\">Cuisines are different across different countries and are primarily affected by geographic conditions, such as local climate, religion, and trade. __*Therefore, classifying the cuisines can be used to improve our unde|rstanding of each culture and lifestyle*__</font>"
   ]
  },
  {
   "cell_type": "code",
   "execution_count": 1,
   "metadata": {},
   "outputs": [
    {
     "data": {
      "text/html": [
       "<img src=\"https://github.com/Youngjo-Kim/Geographic-Classification-of-Cuisine-Recipes/blob/master/figures/Foodworld.png?raw=true\"/>"
      ],
      "text/plain": [
       "<IPython.core.display.Image object>"
      ]
     },
     "execution_count": 1,
     "metadata": {},
     "output_type": "execute_result"
    }
   ],
   "source": [
    "from IPython.display import Image\n",
    "Image(url='https://github.com/Youngjo-Kim/Geographic-Classification-of-Cuisine-Recipes/blob/master/figures/Foodworld.png?raw=true')"
   ]
  },
  {
   "cell_type": "markdown",
   "metadata": {},
   "source": [
    "# 2. Method"
   ]
  },
  {
   "cell_type": "markdown",
   "metadata": {},
   "source": [
    "## 2-1. How did we approach the problem?"
   ]
  },
  {
   "cell_type": "markdown",
   "metadata": {},
   "source": [
    "<font size=\"4.5\">1. __*Get the data from Kaggle*__ (Use 'pandas' to read json file into pandas dataframe)<br><br> 2. Data Preprocessing: __*Construct a binary matrix X (39774 x 6714)*__ <br><br>$\\;\\;\\;\\;\\;\\;$2-1) 39774 recipes from 20 countries and the total 6714 ingredients for the recipes <br>$\\;\\;\\;\\;\\;\\;$2-2) For recipe $i$, if ingredient $j$ is used, $X_{i,j}$ equals to 1, and if ingredient $j$ is not used, $X_{i,j}$ equals to 0 </font>"
   ]
  },
  {
   "cell_type": "markdown",
   "metadata": {},
   "source": [
    "<font size=\"4.5\">3. __*Train/Test Split(0.8, 0.2) of binary matrix X and the label y*__<br><br> 4. __*Model Training and Selection*__: Use 'Scikit learn' to help train the classfiers<br><br>$\\;\\;\\;\\;\\;\\;$ 1. Perceptron<br>$\\;\\;\\;\\;\\;\\;$ 2. Logistic Regression <br>$\\;\\;\\;\\;\\;\\;$ 3. Linear SVM <br>$\\;\\;\\;\\;\\;\\;$ 4. ANN<br><br> 5. __*Evaluate the model based on ROC Curves*__"
   ]
  },
  {
   "cell_type": "code",
   "execution_count": 45,
   "metadata": {
    "scrolled": false
   },
   "outputs": [
    {
     "data": {
      "text/html": [
       "<img src=\"https://github.com/Youngjo-Kim/Geographic-Classification-of-Cuisine-Recipes/blob/master/figures/MainWorkflow.png?raw=true\"/>"
      ],
      "text/plain": [
       "<IPython.core.display.Image object>"
      ]
     },
     "execution_count": 45,
     "metadata": {},
     "output_type": "execute_result"
    }
   ],
   "source": [
    "img = 'https://github.com/Youngjo-Kim/Geographic-Classification-of-Cuisine-Recipes/blob/master/figures/MainWorkflow.png?raw=true'\n",
    "Image(url=img)"
   ]
  },
  {
   "cell_type": "markdown",
   "metadata": {},
   "source": [
    "## 2-2. Challenges approached"
   ]
  },
  {
   "cell_type": "markdown",
   "metadata": {},
   "source": [
    "<font size=\"4.5\">1. The imbalance of the sample matters in statistical estimation technique and can lead to classifier bias<br>2. The matrix is too large and takes a lot of time for running (for ANN, it took over 2 hours for the entire dataset)<br><br>\n",
    "*__How can we reduce the sample imbalance problem?__*</font>"
   ]
  },
  {
   "cell_type": "code",
   "execution_count": 30,
   "metadata": {
    "scrolled": false
   },
   "outputs": [
    {
     "data": {
      "text/html": [
       "<iframe src=GeoChart(Country).html width=970 height=700></iframe>"
      ],
      "text/plain": [
       "<IPython.core.display.HTML object>"
      ]
     },
     "execution_count": 30,
     "metadata": {},
     "output_type": "execute_result"
    }
   ],
   "source": [
    "from IPython.display import HTML\n",
    "HTML('<iframe src=GeoChart(Country).html width=970 height=700></iframe>')"
   ]
  },
  {
   "cell_type": "markdown",
   "metadata": {},
   "source": [
    "## 2-3. New in our approach"
   ]
  },
  {
   "cell_type": "markdown",
   "metadata": {},
   "source": [
    "<font size=\"4.5\">Take a Two-step Approach:<br><br>__What if we classify first by the continents and then classify the country?__<br>We assume that our two-step approach would not lead to the classification bias since we know that the food varies according to the region (Food and the region is highly correlated)</font>"
   ]
  },
  {
   "cell_type": "markdown",
   "metadata": {},
   "source": [
    "### For better visualization, we use the pi plot"
   ]
  },
  {
   "cell_type": "code",
   "execution_count": 21,
   "metadata": {},
   "outputs": [
    {
     "data": {
      "text/html": [
       "<iframe src=PieChart(Country).html width=700 height=400></iframe>"
      ],
      "text/plain": [
       "<IPython.core.display.HTML object>"
      ]
     },
     "execution_count": 21,
     "metadata": {},
     "output_type": "execute_result"
    }
   ],
   "source": [
    "HTML('<iframe src=PieChart(Country).html width=700 height=400></iframe>')"
   ]
  },
  {
   "cell_type": "code",
   "execution_count": 22,
   "metadata": {},
   "outputs": [
    {
     "data": {
      "text/html": [
       "<iframe src=PieChart(Continent).html width=700 height=400></iframe>"
      ],
      "text/plain": [
       "<IPython.core.display.HTML object>"
      ]
     },
     "execution_count": 22,
     "metadata": {},
     "output_type": "execute_result"
    }
   ],
   "source": [
    "HTML('<iframe src=PieChart(Continent).html width=700 height=400></iframe>')"
   ]
  },
  {
   "cell_type": "markdown",
   "metadata": {},
   "source": [
    "### There is a high imbalance for Africa since the dataset for Africa only contains 821 data (which is from Morocco)\n",
    "<font size=\"4.5\">We tried to 'Balance' class_weight (putting less weights on the majority class instances)<br> $\\;\\;\\;\\;\\;\\;$→ Results in lower testing accuracy than the normal logistic regression but slightly (~0.1%) higher training accuracy </font>"
   ]
  },
  {
   "cell_type": "code",
   "execution_count": 28,
   "metadata": {},
   "outputs": [
    {
     "data": {
      "text/html": [
       "<iframe src=GeoChart(Continent).html width=970 height=700></iframe>"
      ],
      "text/plain": [
       "<IPython.core.display.HTML object>"
      ]
     },
     "execution_count": 28,
     "metadata": {},
     "output_type": "execute_result"
    }
   ],
   "source": [
    "HTML('<iframe src=GeoChart(Continent).html width=970 height=700></iframe>')"
   ]
  },
  {
   "cell_type": "code",
   "execution_count": 40,
   "metadata": {},
   "outputs": [
    {
     "data": {
      "text/html": [
       "<iframe src=Countryhtml_For_Country.html width=850 height=650></iframe>"
      ],
      "text/plain": [
       "<IPython.core.display.HTML object>"
      ]
     },
     "execution_count": 40,
     "metadata": {},
     "output_type": "execute_result"
    }
   ],
   "source": [
    "HTML('<iframe src=Countryhtml_For_Country.html width=850 height=650></iframe>')"
   ]
  },
  {
   "cell_type": "code",
   "execution_count": 42,
   "metadata": {},
   "outputs": [
    {
     "data": {
      "text/html": [
       "<iframe src=Continentlevel.html width=850 height=650></iframe>"
      ],
      "text/plain": [
       "<IPython.core.display.HTML object>"
      ]
     },
     "execution_count": 42,
     "metadata": {},
     "output_type": "execute_result"
    }
   ],
   "source": [
    "HTML('<iframe src=Continentlevel.html width=850 height=650></iframe>')"
   ]
  },
  {
   "cell_type": "markdown",
   "metadata": {},
   "source": [
    "### Two-Step Approach Workflow"
   ]
  },
  {
   "cell_type": "code",
   "execution_count": 43,
   "metadata": {
    "scrolled": false
   },
   "outputs": [
    {
     "data": {
      "text/html": [
       "<img src=\"https://github.com/Youngjo-Kim/Geographic-Classification-of-Cuisine-Recipes/blob/master/figures/Workflow3.png?raw=true\"/>"
      ],
      "text/plain": [
       "<IPython.core.display.Image object>"
      ]
     },
     "execution_count": 43,
     "metadata": {},
     "output_type": "execute_result"
    }
   ],
   "source": [
    "img = 'https://github.com/Youngjo-Kim/Geographic-Classification-of-Cuisine-Recipes/blob/master/figures/Workflow3.png?raw=true'\n",
    "Image(url=img)"
   ]
  },
  {
   "cell_type": "markdown",
   "metadata": {},
   "source": [
    "## The goal is to correctly classify the recipe to the geographic origins\n",
    "<font size=\"4.5\">For example in our model, our model should be able to classify the spaghetti to the Italian</font>"
   ]
  },
  {
   "cell_type": "code",
   "execution_count": 46,
   "metadata": {
    "scrolled": false
   },
   "outputs": [
    {
     "data": {
      "text/html": [
       "<img src=\"https://github.com/Youngjo-Kim/Geographic-Classification-of-Cuisine-Recipes/blob/master/figures/Workflow4.png?raw=true\"/>"
      ],
      "text/plain": [
       "<IPython.core.display.Image object>"
      ]
     },
     "execution_count": 46,
     "metadata": {},
     "output_type": "execute_result"
    }
   ],
   "source": [
    "img = 'https://github.com/Youngjo-Kim/Geographic-Classification-of-Cuisine-Recipes/blob/master/figures/Workflow4.png?raw=true'\n",
    "Image(url=img)"
   ]
  },
  {
   "cell_type": "markdown",
   "metadata": {},
   "source": [
    "### We can determine one best classifier in the continent level and three best classifiers in the country level for each continent (America, Asia and Europe)\n",
    "$\\;\\;\\;\\;\\;\\;$<font size=\"4.5\">1. Use the ROC curves to determine best model in each level<br>\n",
    "$\\;\\;\\;\\;\\;$2. Combine the best model in the continent level and the country level </font>"
   ]
  },
  {
   "cell_type": "markdown",
   "metadata": {},
   "source": [
    "## 2-4. Evaluation of the Model"
   ]
  },
  {
   "cell_type": "markdown",
   "metadata": {},
   "source": [
    "## Classifier 1: Continent level"
   ]
  },
  {
   "cell_type": "code",
   "execution_count": 56,
   "metadata": {},
   "outputs": [],
   "source": [
    "## ROC Curves (For Continent)\n",
    "#Show the train/test accuracy for all 4 models here. Show confusion matrix for the best model."
   ]
  },
  {
   "cell_type": "markdown",
   "metadata": {},
   "source": [
    "## Classifier 2: Country level"
   ]
  },
  {
   "cell_type": "code",
   "execution_count": 63,
   "metadata": {},
   "outputs": [],
   "source": [
    "#Show train/test accuracy for all 4 models for each continents. (Total 3 Figures on Accuracy) "
   ]
  },
  {
   "cell_type": "markdown",
   "metadata": {},
   "source": [
    "## ROC Curves (For Asia)"
   ]
  },
  {
   "cell_type": "code",
   "execution_count": null,
   "metadata": {},
   "outputs": [],
   "source": [
    "## ROC Curves (For aMERICA)"
   ]
  },
  {
   "cell_type": "code",
   "execution_count": null,
   "metadata": {},
   "outputs": [],
   "source": [
    "## ROC Curves (For Europe)"
   ]
  },
  {
   "cell_type": "code",
   "execution_count": null,
   "metadata": {},
   "outputs": [],
   "source": []
  },
  {
   "cell_type": "markdown",
   "metadata": {},
   "source": [
    "## Overall Classifier (Best Classifier 1 + Best Classifier 2)"
   ]
  },
  {
   "cell_type": "code",
   "execution_count": 52,
   "metadata": {},
   "outputs": [],
   "source": [
    "#Show overall confusion matrix for the combination of classifier 1 + classifier 2. (Our confusion matrix Youngjo made)"
   ]
  },
  {
   "cell_type": "markdown",
   "metadata": {},
   "source": [
    "## Interpretation of the Confusion Matrix\n",
    "<font size=\"4.5\"> Discovering the relationship between the cuisines according to different region and culture </font>\n"
   ]
  },
  {
   "cell_type": "code",
   "execution_count": 73,
   "metadata": {},
   "outputs": [],
   "source": [
    "#Task 12: get the plot of Confusion matrix (The last confusion matrix with red line in the Recipe Classification_Final.ipynb)"
   ]
  },
  {
   "cell_type": "markdown",
   "metadata": {},
   "source": [
    "<font size=\"3.5\">__1. America section__\n",
    "<br>$\\;\\;\\;\\;\\;\\;$1. 9.3% of Cajun & Creole foods are predicted as Southern US foods \n",
    "<br><br>$\\;\\;\\;\\;\\;\\;$2. More than 8% of each Cajun Creole foods and Southern US foods are predicted as French or Italian foods since many people have come from Europe to America for a long time\n",
    "<br><br>$\\;\\;\\;\\;\\;\\;$3.  the region of Cajun & Creole foods is Louisiana where was a colony of France, so that the 4.44% of Cajun & Creole foods are predicted as French foods"
   ]
  },
  {
   "cell_type": "markdown",
   "metadata": {},
   "source": [
    "<font size=\"3.5\">__2. Asia section__\n",
    "<br>$\\;\\;\\;\\;\\;\\;$1. Many countries' foods are related to Chinese foods. It is very possible because China has been influential to most countries for several thousand years\n",
    "<br><br>$\\;\\;\\;\\;\\;\\;$2. Vietnamese foods and Thai foods may be influential each because they are very close in geographically\n",
    "<br><br>$\\;\\;\\;\\;\\;\\;$3.  Wrong predicted Filipino foods have a larger ratio of western foods because the Philippines was colonized by Spain and America(??)\n",
    "<br><br>$\\;\\;\\;\\;\\;\\;$4.  One thing which does not follow our assumption is that we cannot find any relationships between Vietnamese and French foods even though Vietnam was colonized by France for several decades."
   ]
  },
  {
   "cell_type": "markdown",
   "metadata": {},
   "source": [
    "<font size=\"3.5\">__3. Europe section__\n",
    "<br>$\\;\\;\\;\\;\\;\\;$1. Many foods from European countries are predicted as Italian and French foods because European countries have influenced each other for thousands of years\n",
    "<br><br>$\\;\\;\\;\\;\\;\\;$2. Many wrongly predicted results as Italian or French foods may be caused by the number of samples (Italian has the most number of samples and the French category has the second largest number of samples)\n",
    "<br><br>$\\;\\;\\;\\;\\;\\;$3.  3.6% of British foods were predicted as Indian foods. Because many Indian people have been moved to England, so this prediction can be explained"
   ]
  },
  {
   "cell_type": "markdown",
   "metadata": {},
   "source": [
    "<font size=\"3.5\">__4. Africa section__\n",
    "<br>$\\;\\;\\;\\;\\;\\;$1. We have only one country, Moroccan (located in the Northern part of Africa where is very close to Europe), for African data set. \n",
    "$\\;\\;\\;\\;\\;\\;\\;\\;\\;\\;\\;\\;$→ some Moroccan foods were predicted as European foods\n"
   ]
  },
  {
   "cell_type": "markdown",
   "metadata": {},
   "source": [
    "# 3. Discussion\n",
    "\n",
    "### 1. Why ANN is the worst among four classifiers?"
   ]
  },
  {
   "cell_type": "code",
   "execution_count": 70,
   "metadata": {},
   "outputs": [
    {
     "data": {
      "text/plain": [
       "'Show them ANN training accuracy and testing accuracy for continent, asia, europe, america\\nvs Perceptron'"
      ]
     },
     "execution_count": 70,
     "metadata": {},
     "output_type": "execute_result"
    }
   ],
   "source": [
    "'''Show them ANN training accuracy and testing accuracy for continent, asia, europe, america\n",
    "vs Perceptron'''"
   ]
  },
  {
   "cell_type": "markdown",
   "metadata": {},
   "source": [
    "### 2. Performance of the two-step approach versus the normal approach"
   ]
  },
  {
   "cell_type": "code",
   "execution_count": 65,
   "metadata": {},
   "outputs": [],
   "source": [
    "#Task 12: get the plot of Confusion matrix from SVM (Numbers in %)\n",
    "#Task 13: get the plot of Confusion matrix from 2 step approach (Numbers in %)\n",
    "#Task 14: Can we get SVM overall accuracy for training? (Not Testing)"
   ]
  },
  {
   "cell_type": "markdown",
   "metadata": {},
   "source": [
    "__Overall accuracy for the testing set__\n",
    "<br>Accuracy with SVM            : 0.7913262099308611\n",
    "<br>Accuracy with 2-step appraoch: 0.8368321810182275"
   ]
  },
  {
   "cell_type": "code",
   "execution_count": 68,
   "metadata": {},
   "outputs": [
    {
     "data": {
      "text/plain": [
       "'Analysis: \\n1. 2 step approach is better in test, and training (show them a value)\\n2. But when we see the confusion matrix, for brazilian it is far better using SVM, but in other case, ~~ ...\\n3. Can we compare these approaches and figure out for the difference? Future work.'"
      ]
     },
     "execution_count": 68,
     "metadata": {},
     "output_type": "execute_result"
    }
   ],
   "source": [
    "'''Analysis: \n",
    "1. 2 step approach is better in test, and training (show them a value)\n",
    "2. But when we see the confusion matrix, for brazilian it is far better using SVM, but in other case, ~~ ...\n",
    "3. Can we compare these approaches and figure out for the difference? Future work.'''"
   ]
  },
  {
   "cell_type": "markdown",
   "metadata": {},
   "source": [
    "### 3. Does the Best Model in Continent Level + Best Model in Country Level lead to Best Model overall?"
   ]
  },
  {
   "cell_type": "code",
   "execution_count": null,
   "metadata": {},
   "outputs": [],
   "source": [
    "#Task 14: get the plot of different combination (What Jackie Did: Log + SVM + SVM + SVM, Log + Log + SVM + SVM, ...)"
   ]
  },
  {
   "cell_type": "code",
   "execution_count": 69,
   "metadata": {},
   "outputs": [
    {
     "data": {
      "text/plain": [
       "'Analysis: \\nPossible Reason: Log and SVM has a small difference in the ROC plot, and we used the average of ROC plots \\nWhen we do the label-binarize task. It may cause the problem.'"
      ]
     },
     "execution_count": 69,
     "metadata": {},
     "output_type": "execute_result"
    }
   ],
   "source": [
    "'''Analysis: \n",
    "Possible Reason: Log and SVM has a small difference in the ROC plot, and we used the average of ROC plots \n",
    "When we do the label-binarize task. It may cause the problem.'''"
   ]
  },
  {
   "cell_type": "markdown",
   "metadata": {},
   "source": [
    "### 4. How about doing the PCA to the entire large dataset?\n",
    "<font size=\"4.5\"> Did a Multiple Correspondence Analysis (MCA) for a entire dataset</font>\n"
   ]
  },
  {
   "cell_type": "markdown",
   "metadata": {},
   "source": [
    "<font size=\"4.5\">1. Half of the principal components are needed to explain 99% variance of the binary data (X)</font>"
   ]
  },
  {
   "cell_type": "code",
   "execution_count": 61,
   "metadata": {},
   "outputs": [],
   "source": [
    "## Last Task_1: Run the MCA model, incorporate the png file in 1."
   ]
  },
  {
   "cell_type": "markdown",
   "metadata": {},
   "source": [
    "<font size=\"4.5\">2. Using these reduced features, we did a logistic regression on the entire dataset\n",
    "<br>$\\;\\;\\;\\;\\;\\;$ → The test accuracy was 0.73, which is lower than</font>"
   ]
  },
  {
   "cell_type": "code",
   "execution_count": 60,
   "metadata": {},
   "outputs": [],
   "source": [
    "## Last Task_2: Incorporate the value above which runs the logistic regression on the entire model"
   ]
  },
  {
   "cell_type": "markdown",
   "metadata": {},
   "source": [
    "# 4. Summary\n",
    "\n",
    "<font size=\"4.5\">1.  </font>"
   ]
  },
  {
   "cell_type": "markdown",
   "metadata": {},
   "source": [
    "# Reference"
   ]
  },
  {
   "cell_type": "markdown",
   "metadata": {},
   "source": [
    "__Data Source:__ <br>\n",
    "\n",
    "https://www.kaggle.com/kaggle/recipe-ingredients-dataset#test.json\n",
    "\n",
    "__Publication:__<br>\n",
    "1. Kotsiantis SB. Supervised Machine Learning: A Review of Classification Techniques. Proceedings of the 2007 conference on Emerging Artificial Intelligence Applications in Computer Engineering: Real Word AI Systems with Applications in eHealth, HCI, Information Retrieval and Pervasive Technologies; 2007.\n",
    "2. Vapnik V, Kotz S. Estimation of Dependences Based on Empirical Data. Springer; 2006.\n",
    "3. Vapnik V. The Nature of Statistical Learning Theory. Springer New York; 1999.\n",
    "4. Jonathon Shlens. A Tutorial on Principal Component Analysis. arXiv:1404.1100v1; 2014.\n",
    "5. Herve Abdi & Dominique Valentin. Multiple Correspondence Analysis; 2007.\n",
    "6. Howard Bergman et al. Correspondence analysis is a useful tool to uncover the relationships among categorical variables; 2010.\n",
    "\n",
    "__Others:__\n",
    "<br>https://www.researchgate.net/post/Machine_learning_if_proportion_of_number_of_cases_in_different_class_in_training_set_matters\n",
    "https://www.cs.cmu.edu/afs/cs/project/jair/pub/volume16/chawla02a-html/chawla2002.html\n",
    "<br>http://www.bigendiandata.com/2017-06-27-Mapping_in_Jupyter/\n",
    "<br>https://towardsdatascience.com/a-complete-guide-to-an-interactive-geographical-map-using-python-f4c5197e23e0\n",
    "<br>https://bokeh.pydata.org/en/latest/docs/gallery/unemployment.html\n",
    "<br>www.freeworldmaps.net\n"
   ]
  },
  {
   "cell_type": "code",
   "execution_count": 55,
   "metadata": {},
   "outputs": [
    {
     "ename": "SyntaxError",
     "evalue": "invalid syntax (<ipython-input-55-b429faab27d2>, line 1)",
     "output_type": "error",
     "traceback": [
      "\u001b[1;36m  File \u001b[1;32m\"<ipython-input-55-b429faab27d2>\"\u001b[1;36m, line \u001b[1;32m1\u001b[0m\n\u001b[1;33m    $\\;\\;\\;\\;\\;\\;$<font size=\"4.5\">\u001b[0m\n\u001b[1;37m    ^\u001b[0m\n\u001b[1;31mSyntaxError\u001b[0m\u001b[1;31m:\u001b[0m invalid syntax\n"
     ]
    }
   ],
   "source": [
    "$\\;\\;\\;\\;\\;\\;$<font size=\"4.5\">"
   ]
  }
 ],
 "metadata": {
  "kernelspec": {
   "display_name": "Python 3",
   "language": "python",
   "name": "python3"
  },
  "language_info": {
   "codemirror_mode": {
    "name": "ipython",
    "version": 3
   },
   "file_extension": ".py",
   "mimetype": "text/x-python",
   "name": "python",
   "nbconvert_exporter": "python",
   "pygments_lexer": "ipython3",
   "version": "3.7.3"
  }
 },
 "nbformat": 4,
 "nbformat_minor": 2
}
